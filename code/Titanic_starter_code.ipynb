{
 "cells": [
  {
   "cell_type": "markdown",
   "metadata": {
    "papermill": {
     "duration": 0.078665,
     "end_time": "2021-01-07T18:54:38.772536",
     "exception": false,
     "start_time": "2021-01-07T18:54:38.693871",
     "status": "completed"
    },
    "tags": []
   },
   "source": [
    "# Classification Techniques - Titanic Passenger Information Dataset\n",
    "\n",
    "## Problem Identification\n",
    "\n",
    "The sinking of the Titanic is the most famous shipwrecks in history. Unfortunately, more than 1500 people didn’t survive. \n",
    "\n",
    "In this challenge, we built a predictive model that answers the question: “what sorts of people were more likely to survive?” using passenger data (ie name, age, gender, socio-economic class, etc).\n",
    "\n",
    "After clearing the noise in the data, we proceeded by performing mulltiple classification models including Random Forest, Extra Tree, Support Vector Machine, KNN, Logistic Regression and Decision Tree to get the best score. Furthermore, we used Ensemble and tuning techniques in an attempt to increase the accuracy of our models.\n",
    "\n",
    "\n",
    "##  Model  Accuracy Table\n",
    "|Model|Score|Specific setting|\n",
    "|:-|:------|:---------------------|\n",
    "|KNN|0.50956|KNN K-fold = 5, cross validation|\n",
    "|Decision Tree|0.74880|Grid search|\n",
    "|Random Forest|0.75358|drop(column= ‘embarked_C’)|\n",
    "|Random Forest|0.75358|dummy(drop_first=True),drop(column= 'embarked_Q')|\n",
    "|Random Forest|0.75837|dummy(drop_first=True),drop(column= 'parch')|\n",
    "|Logistic Regression|0.76315|drop(column= ‘cabin’)|\n",
    "|KNN|0.76315|drop(column= ‘cabin’)|\n",
    "|Random Forest|0.76315|drop(column= ‘cabin’)|\n",
    "|Gradient Boosting Classifier|0.76315|n_estimators=100, learning_rate=1.0,                             max_depth=1, random_state=0|\n",
    "|Extra Tree|0.76555|Grid search, best model|\n",
    "|Logistic regression|0.76555|with new feature 'relative'|\n",
    "|SVM|0.76555|K-fold = 5, cross validation|\n",
    "|Random Forest|0.77272|Grid search, best model|\n",
    "|Random Forest|0.77272|Grid search, best model,bagging classifier|\n",
    "|Decision Tree|0.77272|Grid search, bagging classifier|\n",
    "\n",
    "\n",
    "\n",
    "\n",
    "##  Summary\n",
    "\n",
    "In Model accuracy table above, muiltple models of different settings were applied to predict the survival of passengers in aboard Titanic ship. The best prediction accuracy for survival was 0.77272. Imporoving the model accuracy was challenging since multiple models of different settings resulted in similar scores. \n",
    " \n",
    "Suggestions to improve the model accuracy include, dealing with outliers without necessarily removing them. Furthermore, the majority of null values were in the cabin column. More analysis is required to predict the correct values of missing values. Creating new data through feature engineering might further improve the model performance.\n",
    "\n",
    "\n",
    "--- \n",
    "**Team members (Group 9)**\n",
    " - Fahdah Alalyan - fahdah.a15@gmail.com   \n",
    " - Amjaad Alsubaie - amjaad_636@hotmail.com  \n",
    " - Ahmed Adam - am4ma@hotmail.com\n",
    " \n",
    "**Kaggle Kernal,** \n",
    "[here](https://www.kaggle.com/fahdahalalyan/classification-techniques-titanic)\n",
    " \n",
    "---\n",
    "\n",
    "\n",
    "\n",
    "##  Data Wrangling\n",
    "\n",
    "Let's read the data.\n"
   ]
  },
  {
   "cell_type": "code",
   "execution_count": 1,
   "metadata": {
    "execution": {
     "iopub.execute_input": "2021-01-07T18:54:38.941891Z",
     "iopub.status.busy": "2021-01-07T18:54:38.941095Z",
     "iopub.status.idle": "2021-01-07T18:54:40.105787Z",
     "shell.execute_reply": "2021-01-07T18:54:40.106371Z"
    },
    "papermill": {
     "duration": 1.252887,
     "end_time": "2021-01-07T18:54:40.106534",
     "exception": false,
     "start_time": "2021-01-07T18:54:38.853647",
     "status": "completed"
    },
    "tags": []
   },
   "outputs": [],
   "source": [
    "#Imports\n",
    "\n",
    "import numpy as np\n",
    "import pandas as pd\n",
    "import matplotlib.pyplot as plt\n",
    "import seaborn as sns\n",
    "\n",
    "from sklearn.model_selection import cross_val_score, train_test_split, GridSearchCV\n",
    "from sklearn.tree import DecisionTreeClassifier\n",
    "from sklearn.ensemble import RandomForestClassifier, ExtraTreesClassifier, BaggingClassifier, GradientBoostingClassifier\n",
    "from sklearn.metrics import confusion_matrix, classification_report\n",
    "\n",
    "from sklearn import tree\n",
    "from sklearn.neighbors import KNeighborsClassifier\n",
    "from sklearn.datasets import make_biclusters\n",
    "\n",
    "from sklearn.preprocessing import StandardScaler\n",
    "from sklearn.linear_model import LogisticRegression\n",
    "from sklearn import svm\n",
    "\n",
    "sns.set_style('whitegrid')\n",
    "%matplotlib inline\n",
    "\n",
    "from IPython.display import set_matplotlib_formats\n",
    "set_matplotlib_formats('retina')"
   ]
  },
  {
   "cell_type": "code",
   "execution_count": 2,
   "metadata": {
    "execution": {
     "iopub.execute_input": "2021-01-07T18:54:40.27067Z",
     "iopub.status.busy": "2021-01-07T18:54:40.269923Z",
     "iopub.status.idle": "2021-01-07T18:54:40.275172Z",
     "shell.execute_reply": "2021-01-07T18:54:40.274528Z"
    },
    "papermill": {
     "duration": 0.087634,
     "end_time": "2021-01-07T18:54:40.275287",
     "exception": false,
     "start_time": "2021-01-07T18:54:40.187653",
     "status": "completed"
    },
    "tags": []
   },
   "outputs": [],
   "source": [
    "\n",
    "\n",
    "# # Kaggle reading data sets.\n",
    "\n",
    "\n",
    "# train_or = pd.read_csv(\"/kaggle/input/titanic/train.csv\")\n",
    "# test_or = pd.read_csv(\"/kaggle/input/titanic/test.csv\")\n",
    "# g_s_or = pd.read_csv(\"/kaggle/input/titanic/gender_submission.csv\")\n",
    "\n",
    "# train = pd.read_csv(\"/kaggle/input/titanic/train.csv\")\n",
    "# test = pd.read_csv(\"/kaggle/input/titanic/test.csv\")\n",
    "# g_s = pd.read_csv(\"/kaggle/input/titanic/gender_submission.csv\")\n",
    "\n",
    "\n",
    "\n",
    "#-------------------------------------------\n",
    "\n",
    "\n",
    "#load data.\n",
    "# assigning orignal df\n",
    "train_or = pd.read_csv('../data/train.csv')\n",
    "test_or = pd.read_csv('../data/test.csv')\n",
    "g_s_or = pd.read_csv('../data/gender_submission.csv')\n",
    "\n",
    "train = pd.read_csv('../data/train.csv')\n",
    "test = pd.read_csv('../data/test.csv')\n"
   ]
  },
  {
   "cell_type": "markdown",
   "metadata": {
    "papermill": {
     "duration": 0.080234,
     "end_time": "2021-01-07T18:54:40.87701",
     "exception": false,
     "start_time": "2021-01-07T18:54:40.796776",
     "status": "completed"
    },
    "tags": []
   },
   "source": [
    "##  Data Cleaning and Data Exploration\n",
    "###  Displaying data"
   ]
  },
  {
   "cell_type": "code",
   "execution_count": 3,
   "metadata": {
    "execution": {
     "iopub.execute_input": "2021-01-07T18:54:41.04524Z",
     "iopub.status.busy": "2021-01-07T18:54:41.044217Z",
     "iopub.status.idle": "2021-01-07T18:54:41.059981Z",
     "shell.execute_reply": "2021-01-07T18:54:41.060517Z"
    },
    "papermill": {
     "duration": 0.1013,
     "end_time": "2021-01-07T18:54:41.060675",
     "exception": false,
     "start_time": "2021-01-07T18:54:40.959375",
     "status": "completed"
    },
    "tags": []
   },
   "outputs": [
    {
     "data": {
      "text/html": [
       "<div>\n",
       "<style scoped>\n",
       "    .dataframe tbody tr th:only-of-type {\n",
       "        vertical-align: middle;\n",
       "    }\n",
       "\n",
       "    .dataframe tbody tr th {\n",
       "        vertical-align: top;\n",
       "    }\n",
       "\n",
       "    .dataframe thead th {\n",
       "        text-align: right;\n",
       "    }\n",
       "</style>\n",
       "<table border=\"1\" class=\"dataframe\">\n",
       "  <thead>\n",
       "    <tr style=\"text-align: right;\">\n",
       "      <th></th>\n",
       "      <th>PassengerId</th>\n",
       "      <th>Survived</th>\n",
       "      <th>Pclass</th>\n",
       "      <th>Name</th>\n",
       "      <th>Sex</th>\n",
       "      <th>Age</th>\n",
       "      <th>SibSp</th>\n",
       "      <th>Parch</th>\n",
       "      <th>Ticket</th>\n",
       "      <th>Fare</th>\n",
       "      <th>Cabin</th>\n",
       "      <th>Embarked</th>\n",
       "    </tr>\n",
       "  </thead>\n",
       "  <tbody>\n",
       "    <tr>\n",
       "      <th>0</th>\n",
       "      <td>1</td>\n",
       "      <td>0</td>\n",
       "      <td>3</td>\n",
       "      <td>Braund, Mr. Owen Harris</td>\n",
       "      <td>male</td>\n",
       "      <td>22.0</td>\n",
       "      <td>1</td>\n",
       "      <td>0</td>\n",
       "      <td>A/5 21171</td>\n",
       "      <td>7.2500</td>\n",
       "      <td>NaN</td>\n",
       "      <td>S</td>\n",
       "    </tr>\n",
       "    <tr>\n",
       "      <th>1</th>\n",
       "      <td>2</td>\n",
       "      <td>1</td>\n",
       "      <td>1</td>\n",
       "      <td>Cumings, Mrs. John Bradley (Florence Briggs Th...</td>\n",
       "      <td>female</td>\n",
       "      <td>38.0</td>\n",
       "      <td>1</td>\n",
       "      <td>0</td>\n",
       "      <td>PC 17599</td>\n",
       "      <td>71.2833</td>\n",
       "      <td>C85</td>\n",
       "      <td>C</td>\n",
       "    </tr>\n",
       "    <tr>\n",
       "      <th>2</th>\n",
       "      <td>3</td>\n",
       "      <td>1</td>\n",
       "      <td>3</td>\n",
       "      <td>Heikkinen, Miss. Laina</td>\n",
       "      <td>female</td>\n",
       "      <td>26.0</td>\n",
       "      <td>0</td>\n",
       "      <td>0</td>\n",
       "      <td>STON/O2. 3101282</td>\n",
       "      <td>7.9250</td>\n",
       "      <td>NaN</td>\n",
       "      <td>S</td>\n",
       "    </tr>\n",
       "    <tr>\n",
       "      <th>3</th>\n",
       "      <td>4</td>\n",
       "      <td>1</td>\n",
       "      <td>1</td>\n",
       "      <td>Futrelle, Mrs. Jacques Heath (Lily May Peel)</td>\n",
       "      <td>female</td>\n",
       "      <td>35.0</td>\n",
       "      <td>1</td>\n",
       "      <td>0</td>\n",
       "      <td>113803</td>\n",
       "      <td>53.1000</td>\n",
       "      <td>C123</td>\n",
       "      <td>S</td>\n",
       "    </tr>\n",
       "    <tr>\n",
       "      <th>4</th>\n",
       "      <td>5</td>\n",
       "      <td>0</td>\n",
       "      <td>3</td>\n",
       "      <td>Allen, Mr. William Henry</td>\n",
       "      <td>male</td>\n",
       "      <td>35.0</td>\n",
       "      <td>0</td>\n",
       "      <td>0</td>\n",
       "      <td>373450</td>\n",
       "      <td>8.0500</td>\n",
       "      <td>NaN</td>\n",
       "      <td>S</td>\n",
       "    </tr>\n",
       "  </tbody>\n",
       "</table>\n",
       "</div>"
      ],
      "text/plain": [
       "   PassengerId  Survived  Pclass  \\\n",
       "0            1         0       3   \n",
       "1            2         1       1   \n",
       "2            3         1       3   \n",
       "3            4         1       1   \n",
       "4            5         0       3   \n",
       "\n",
       "                                                Name     Sex   Age  SibSp  \\\n",
       "0                            Braund, Mr. Owen Harris    male  22.0      1   \n",
       "1  Cumings, Mrs. John Bradley (Florence Briggs Th...  female  38.0      1   \n",
       "2                             Heikkinen, Miss. Laina  female  26.0      0   \n",
       "3       Futrelle, Mrs. Jacques Heath (Lily May Peel)  female  35.0      1   \n",
       "4                           Allen, Mr. William Henry    male  35.0      0   \n",
       "\n",
       "   Parch            Ticket     Fare Cabin Embarked  \n",
       "0      0         A/5 21171   7.2500   NaN        S  \n",
       "1      0          PC 17599  71.2833   C85        C  \n",
       "2      0  STON/O2. 3101282   7.9250   NaN        S  \n",
       "3      0            113803  53.1000  C123        S  \n",
       "4      0            373450   8.0500   NaN        S  "
      ]
     },
     "execution_count": 3,
     "metadata": {},
     "output_type": "execute_result"
    }
   ],
   "source": [
    "train.head() # display"
   ]
  },
  {
   "cell_type": "code",
   "execution_count": 4,
   "metadata": {
    "execution": {
     "iopub.execute_input": "2021-01-07T18:54:41.235852Z",
     "iopub.status.busy": "2021-01-07T18:54:41.235007Z",
     "iopub.status.idle": "2021-01-07T18:54:41.254082Z",
     "shell.execute_reply": "2021-01-07T18:54:41.254769Z"
    },
    "papermill": {
     "duration": 0.112681,
     "end_time": "2021-01-07T18:54:41.25493",
     "exception": false,
     "start_time": "2021-01-07T18:54:41.142249",
     "status": "completed"
    },
    "tags": []
   },
   "outputs": [
    {
     "data": {
      "text/html": [
       "<div>\n",
       "<style scoped>\n",
       "    .dataframe tbody tr th:only-of-type {\n",
       "        vertical-align: middle;\n",
       "    }\n",
       "\n",
       "    .dataframe tbody tr th {\n",
       "        vertical-align: top;\n",
       "    }\n",
       "\n",
       "    .dataframe thead th {\n",
       "        text-align: right;\n",
       "    }\n",
       "</style>\n",
       "<table border=\"1\" class=\"dataframe\">\n",
       "  <thead>\n",
       "    <tr style=\"text-align: right;\">\n",
       "      <th></th>\n",
       "      <th>PassengerId</th>\n",
       "      <th>Pclass</th>\n",
       "      <th>Name</th>\n",
       "      <th>Sex</th>\n",
       "      <th>Age</th>\n",
       "      <th>SibSp</th>\n",
       "      <th>Parch</th>\n",
       "      <th>Ticket</th>\n",
       "      <th>Fare</th>\n",
       "      <th>Cabin</th>\n",
       "      <th>Embarked</th>\n",
       "    </tr>\n",
       "  </thead>\n",
       "  <tbody>\n",
       "    <tr>\n",
       "      <th>0</th>\n",
       "      <td>892</td>\n",
       "      <td>3</td>\n",
       "      <td>Kelly, Mr. James</td>\n",
       "      <td>male</td>\n",
       "      <td>34.5</td>\n",
       "      <td>0</td>\n",
       "      <td>0</td>\n",
       "      <td>330911</td>\n",
       "      <td>7.8292</td>\n",
       "      <td>NaN</td>\n",
       "      <td>Q</td>\n",
       "    </tr>\n",
       "    <tr>\n",
       "      <th>1</th>\n",
       "      <td>893</td>\n",
       "      <td>3</td>\n",
       "      <td>Wilkes, Mrs. James (Ellen Needs)</td>\n",
       "      <td>female</td>\n",
       "      <td>47.0</td>\n",
       "      <td>1</td>\n",
       "      <td>0</td>\n",
       "      <td>363272</td>\n",
       "      <td>7.0000</td>\n",
       "      <td>NaN</td>\n",
       "      <td>S</td>\n",
       "    </tr>\n",
       "    <tr>\n",
       "      <th>2</th>\n",
       "      <td>894</td>\n",
       "      <td>2</td>\n",
       "      <td>Myles, Mr. Thomas Francis</td>\n",
       "      <td>male</td>\n",
       "      <td>62.0</td>\n",
       "      <td>0</td>\n",
       "      <td>0</td>\n",
       "      <td>240276</td>\n",
       "      <td>9.6875</td>\n",
       "      <td>NaN</td>\n",
       "      <td>Q</td>\n",
       "    </tr>\n",
       "    <tr>\n",
       "      <th>3</th>\n",
       "      <td>895</td>\n",
       "      <td>3</td>\n",
       "      <td>Wirz, Mr. Albert</td>\n",
       "      <td>male</td>\n",
       "      <td>27.0</td>\n",
       "      <td>0</td>\n",
       "      <td>0</td>\n",
       "      <td>315154</td>\n",
       "      <td>8.6625</td>\n",
       "      <td>NaN</td>\n",
       "      <td>S</td>\n",
       "    </tr>\n",
       "    <tr>\n",
       "      <th>4</th>\n",
       "      <td>896</td>\n",
       "      <td>3</td>\n",
       "      <td>Hirvonen, Mrs. Alexander (Helga E Lindqvist)</td>\n",
       "      <td>female</td>\n",
       "      <td>22.0</td>\n",
       "      <td>1</td>\n",
       "      <td>1</td>\n",
       "      <td>3101298</td>\n",
       "      <td>12.2875</td>\n",
       "      <td>NaN</td>\n",
       "      <td>S</td>\n",
       "    </tr>\n",
       "  </tbody>\n",
       "</table>\n",
       "</div>"
      ],
      "text/plain": [
       "   PassengerId  Pclass                                          Name     Sex  \\\n",
       "0          892       3                              Kelly, Mr. James    male   \n",
       "1          893       3              Wilkes, Mrs. James (Ellen Needs)  female   \n",
       "2          894       2                     Myles, Mr. Thomas Francis    male   \n",
       "3          895       3                              Wirz, Mr. Albert    male   \n",
       "4          896       3  Hirvonen, Mrs. Alexander (Helga E Lindqvist)  female   \n",
       "\n",
       "    Age  SibSp  Parch   Ticket     Fare Cabin Embarked  \n",
       "0  34.5      0      0   330911   7.8292   NaN        Q  \n",
       "1  47.0      1      0   363272   7.0000   NaN        S  \n",
       "2  62.0      0      0   240276   9.6875   NaN        Q  \n",
       "3  27.0      0      0   315154   8.6625   NaN        S  \n",
       "4  22.0      1      1  3101298  12.2875   NaN        S  "
      ]
     },
     "execution_count": 4,
     "metadata": {},
     "output_type": "execute_result"
    }
   ],
   "source": [
    "test.head() # display"
   ]
  },
  {
   "cell_type": "markdown",
   "metadata": {
    "papermill": {
     "duration": 0.085224,
     "end_time": "2021-01-07T18:54:44.930931",
     "exception": false,
     "start_time": "2021-01-07T18:54:44.845707",
     "status": "completed"
    },
    "tags": []
   },
   "source": [
    "**Displying the shape of datasets** "
   ]
  },
  {
   "cell_type": "code",
   "execution_count": 5,
   "metadata": {
    "execution": {
     "iopub.execute_input": "2021-01-07T18:54:45.105995Z",
     "iopub.status.busy": "2021-01-07T18:54:45.105322Z",
     "iopub.status.idle": "2021-01-07T18:54:45.119132Z",
     "shell.execute_reply": "2021-01-07T18:54:45.119744Z"
    },
    "papermill": {
     "duration": 0.103301,
     "end_time": "2021-01-07T18:54:45.119912",
     "exception": false,
     "start_time": "2021-01-07T18:54:45.016611",
     "status": "completed"
    },
    "tags": []
   },
   "outputs": [
    {
     "data": {
      "text/plain": [
       "(418, 11)"
      ]
     },
     "execution_count": 5,
     "metadata": {},
     "output_type": "execute_result"
    }
   ],
   "source": [
    "train.shape\n",
    "test.shape"
   ]
  },
  {
   "cell_type": "markdown",
   "metadata": {
    "papermill": {
     "duration": 0.087893,
     "end_time": "2021-01-07T18:54:41.440653",
     "exception": false,
     "start_time": "2021-01-07T18:54:41.35276",
     "status": "completed"
    },
    "tags": []
   },
   "source": [
    "###  How complete is the data?\n",
    "\n",
    "Investigating missing values etc."
   ]
  },
  {
   "cell_type": "code",
   "execution_count": 6,
   "metadata": {
    "execution": {
     "iopub.execute_input": "2021-01-07T18:54:41.634578Z",
     "iopub.status.busy": "2021-01-07T18:54:41.63384Z",
     "iopub.status.idle": "2021-01-07T18:54:41.65272Z",
     "shell.execute_reply": "2021-01-07T18:54:41.653362Z"
    },
    "papermill": {
     "duration": 0.107828,
     "end_time": "2021-01-07T18:54:41.65355",
     "exception": false,
     "start_time": "2021-01-07T18:54:41.545722",
     "status": "completed"
    },
    "tags": []
   },
   "outputs": [
    {
     "data": {
      "text/plain": [
       "PassengerId      0\n",
       "Survived         0\n",
       "Pclass           0\n",
       "Name             0\n",
       "Sex              0\n",
       "Age            177\n",
       "SibSp            0\n",
       "Parch            0\n",
       "Ticket           0\n",
       "Fare             0\n",
       "Cabin          687\n",
       "Embarked         2\n",
       "dtype: int64"
      ]
     },
     "execution_count": 6,
     "metadata": {},
     "output_type": "execute_result"
    }
   ],
   "source": [
    "train.isna().sum() # get the numbers of null values.\n",
    "# Age, Cabin and Embarked columns have null values."
   ]
  },
  {
   "cell_type": "code",
   "execution_count": 7,
   "metadata": {
    "execution": {
     "iopub.execute_input": "2021-01-07T18:54:41.826221Z",
     "iopub.status.busy": "2021-01-07T18:54:41.82549Z",
     "iopub.status.idle": "2021-01-07T18:54:41.845428Z",
     "shell.execute_reply": "2021-01-07T18:54:41.845946Z"
    },
    "papermill": {
     "duration": 0.108044,
     "end_time": "2021-01-07T18:54:41.8461",
     "exception": false,
     "start_time": "2021-01-07T18:54:41.738056",
     "status": "completed"
    },
    "tags": []
   },
   "outputs": [
    {
     "data": {
      "text/plain": [
       "PassengerId      0\n",
       "Pclass           0\n",
       "Name             0\n",
       "Sex              0\n",
       "Age             86\n",
       "SibSp            0\n",
       "Parch            0\n",
       "Ticket           0\n",
       "Fare             1\n",
       "Cabin          327\n",
       "Embarked         0\n",
       "dtype: int64"
      ]
     },
     "execution_count": 7,
     "metadata": {},
     "output_type": "execute_result"
    }
   ],
   "source": [
    "test.isna().sum() # get the numbers of null values.\n",
    "# Age, Fare, and Cabin columns have null values."
   ]
  },
  {
   "cell_type": "code",
   "execution_count": 8,
   "metadata": {},
   "outputs": [
    {
     "data": {
      "image/png": "[encoded data removed]",
      "text/plain": [
       "<Figure size 1296x432 with 2 Axes>"
      ]
     },
     "metadata": {
      "image/png": {
       "height": 418,
       "width": 1018
      },
      "needs_background": "light"
     },
     "output_type": "display_data"
    }
   ],
   "source": [
    "# Another way of visualize null values.\n",
    "fig, ax = plt.subplots(nrows = 1, ncols = 2, figsize = (18, 6))\n",
    "\n",
    "# train data \n",
    "sns.heatmap(train.isnull(), yticklabels=False, ax = ax[0], cbar=False, cmap='viridis')\n",
    "ax[0].set_title('Train data')\n",
    "\n",
    "# test data\n",
    "sns.heatmap(test.isnull(), yticklabels=False, ax = ax[1], cbar=False, cmap='viridis')\n",
    "ax[1].set_title('Test data');"
   ]
  },
  {
   "cell_type": "markdown",
   "metadata": {
    "papermill": {
     "duration": 0.088547,
     "end_time": "2021-01-07T18:54:42.017804",
     "exception": false,
     "start_time": "2021-01-07T18:54:41.929257",
     "status": "completed"
    },
    "tags": []
   },
   "source": [
    "###  Investigating data types\n",
    "Displaying the data types of each feature. "
   ]
  },
  {
   "cell_type": "code",
   "execution_count": 9,
   "metadata": {
    "execution": {
     "iopub.execute_input": "2021-01-07T18:54:42.257996Z",
     "iopub.status.busy": "2021-01-07T18:54:42.256786Z",
     "iopub.status.idle": "2021-01-07T18:54:42.260744Z",
     "shell.execute_reply": "2021-01-07T18:54:42.261333Z"
    },
    "papermill": {
     "duration": 0.145643,
     "end_time": "2021-01-07T18:54:42.261523",
     "exception": false,
     "start_time": "2021-01-07T18:54:42.11588",
     "status": "completed"
    },
    "tags": []
   },
   "outputs": [
    {
     "data": {
      "text/plain": [
       "PassengerId      int64\n",
       "Survived         int64\n",
       "Pclass           int64\n",
       "Name            object\n",
       "Sex             object\n",
       "Age            float64\n",
       "SibSp            int64\n",
       "Parch            int64\n",
       "Ticket          object\n",
       "Fare           float64\n",
       "Cabin           object\n",
       "Embarked        object\n",
       "dtype: object"
      ]
     },
     "execution_count": 9,
     "metadata": {},
     "output_type": "execute_result"
    }
   ],
   "source": [
    "train.dtypes"
   ]
  },
  {
   "cell_type": "code",
   "execution_count": 10,
   "metadata": {
    "execution": {
     "iopub.execute_input": "2021-01-07T18:54:42.431462Z",
     "iopub.status.busy": "2021-01-07T18:54:42.430629Z",
     "iopub.status.idle": "2021-01-07T18:54:42.44404Z",
     "shell.execute_reply": "2021-01-07T18:54:42.444573Z"
    },
    "papermill": {
     "duration": 0.099034,
     "end_time": "2021-01-07T18:54:42.444728",
     "exception": false,
     "start_time": "2021-01-07T18:54:42.345694",
     "status": "completed"
    },
    "tags": []
   },
   "outputs": [
    {
     "data": {
      "text/plain": [
       "PassengerId      int64\n",
       "Pclass           int64\n",
       "Name            object\n",
       "Sex             object\n",
       "Age            float64\n",
       "SibSp            int64\n",
       "Parch            int64\n",
       "Ticket          object\n",
       "Fare           float64\n",
       "Cabin           object\n",
       "Embarked        object\n",
       "dtype: object"
      ]
     },
     "execution_count": 10,
     "metadata": {},
     "output_type": "execute_result"
    }
   ],
   "source": [
    "test.dtypes"
   ]
  },
  {
   "cell_type": "markdown",
   "metadata": {
    "papermill": {
     "duration": 0.083671,
     "end_time": "2021-01-07T18:54:42.792629",
     "exception": false,
     "start_time": "2021-01-07T18:54:42.708958",
     "status": "completed"
    },
    "tags": []
   },
   "source": [
    "###  Renaming columns"
   ]
  },
  {
   "cell_type": "code",
   "execution_count": 11,
   "metadata": {
    "execution": {
     "iopub.execute_input": "2021-01-07T18:54:42.974891Z",
     "iopub.status.busy": "2021-01-07T18:54:42.973767Z",
     "iopub.status.idle": "2021-01-07T18:54:42.981866Z",
     "shell.execute_reply": "2021-01-07T18:54:42.98133Z"
    },
    "papermill": {
     "duration": 0.106552,
     "end_time": "2021-01-07T18:54:42.981986",
     "exception": false,
     "start_time": "2021-01-07T18:54:42.875434",
     "status": "completed"
    },
    "tags": []
   },
   "outputs": [
    {
     "data": {
      "text/html": [
       "<div>\n",
       "<style scoped>\n",
       "    .dataframe tbody tr th:only-of-type {\n",
       "        vertical-align: middle;\n",
       "    }\n",
       "\n",
       "    .dataframe tbody tr th {\n",
       "        vertical-align: top;\n",
       "    }\n",
       "\n",
       "    .dataframe thead th {\n",
       "        text-align: right;\n",
       "    }\n",
       "</style>\n",
       "<table border=\"1\" class=\"dataframe\">\n",
       "  <thead>\n",
       "    <tr style=\"text-align: right;\">\n",
       "      <th></th>\n",
       "      <th>id</th>\n",
       "      <th>survived</th>\n",
       "      <th>p_class</th>\n",
       "      <th>name</th>\n",
       "      <th>sex</th>\n",
       "      <th>age</th>\n",
       "      <th>sib_sp</th>\n",
       "      <th>parch</th>\n",
       "      <th>ticket</th>\n",
       "      <th>fare</th>\n",
       "      <th>cabin</th>\n",
       "      <th>embarked</th>\n",
       "    </tr>\n",
       "  </thead>\n",
       "  <tbody>\n",
       "    <tr>\n",
       "      <th>0</th>\n",
       "      <td>1</td>\n",
       "      <td>0</td>\n",
       "      <td>3</td>\n",
       "      <td>Braund, Mr. Owen Harris</td>\n",
       "      <td>male</td>\n",
       "      <td>22.0</td>\n",
       "      <td>1</td>\n",
       "      <td>0</td>\n",
       "      <td>A/5 21171</td>\n",
       "      <td>7.2500</td>\n",
       "      <td>NaN</td>\n",
       "      <td>S</td>\n",
       "    </tr>\n",
       "    <tr>\n",
       "      <th>1</th>\n",
       "      <td>2</td>\n",
       "      <td>1</td>\n",
       "      <td>1</td>\n",
       "      <td>Cumings, Mrs. John Bradley (Florence Briggs Th...</td>\n",
       "      <td>female</td>\n",
       "      <td>38.0</td>\n",
       "      <td>1</td>\n",
       "      <td>0</td>\n",
       "      <td>PC 17599</td>\n",
       "      <td>71.2833</td>\n",
       "      <td>C85</td>\n",
       "      <td>C</td>\n",
       "    </tr>\n",
       "    <tr>\n",
       "      <th>2</th>\n",
       "      <td>3</td>\n",
       "      <td>1</td>\n",
       "      <td>3</td>\n",
       "      <td>Heikkinen, Miss. Laina</td>\n",
       "      <td>female</td>\n",
       "      <td>26.0</td>\n",
       "      <td>0</td>\n",
       "      <td>0</td>\n",
       "      <td>STON/O2. 3101282</td>\n",
       "      <td>7.9250</td>\n",
       "      <td>NaN</td>\n",
       "      <td>S</td>\n",
       "    </tr>\n",
       "    <tr>\n",
       "      <th>3</th>\n",
       "      <td>4</td>\n",
       "      <td>1</td>\n",
       "      <td>1</td>\n",
       "      <td>Futrelle, Mrs. Jacques Heath (Lily May Peel)</td>\n",
       "      <td>female</td>\n",
       "      <td>35.0</td>\n",
       "      <td>1</td>\n",
       "      <td>0</td>\n",
       "      <td>113803</td>\n",
       "      <td>53.1000</td>\n",
       "      <td>C123</td>\n",
       "      <td>S</td>\n",
       "    </tr>\n",
       "    <tr>\n",
       "      <th>4</th>\n",
       "      <td>5</td>\n",
       "      <td>0</td>\n",
       "      <td>3</td>\n",
       "      <td>Allen, Mr. William Henry</td>\n",
       "      <td>male</td>\n",
       "      <td>35.0</td>\n",
       "      <td>0</td>\n",
       "      <td>0</td>\n",
       "      <td>373450</td>\n",
       "      <td>8.0500</td>\n",
       "      <td>NaN</td>\n",
       "      <td>S</td>\n",
       "    </tr>\n",
       "  </tbody>\n",
       "</table>\n",
       "</div>"
      ],
      "text/plain": [
       "   id  survived  p_class                                               name  \\\n",
       "0   1         0        3                            Braund, Mr. Owen Harris   \n",
       "1   2         1        1  Cumings, Mrs. John Bradley (Florence Briggs Th...   \n",
       "2   3         1        3                             Heikkinen, Miss. Laina   \n",
       "3   4         1        1       Futrelle, Mrs. Jacques Heath (Lily May Peel)   \n",
       "4   5         0        3                           Allen, Mr. William Henry   \n",
       "\n",
       "      sex   age  sib_sp  parch            ticket     fare cabin embarked  \n",
       "0    male  22.0       1      0         A/5 21171   7.2500   NaN        S  \n",
       "1  female  38.0       1      0          PC 17599  71.2833   C85        C  \n",
       "2  female  26.0       0      0  STON/O2. 3101282   7.9250   NaN        S  \n",
       "3  female  35.0       1      0            113803  53.1000  C123        S  \n",
       "4    male  35.0       0      0            373450   8.0500   NaN        S  "
      ]
     },
     "execution_count": 11,
     "metadata": {},
     "output_type": "execute_result"
    }
   ],
   "source": [
    "# renaming train columns\n",
    "train = train.rename(columns={'PassengerId':\"id\",\n",
    "                                    'Pclass':'p_class',\n",
    "                                    'Name':\"name\",\n",
    "                                    \"Sex\":\"sex\",\n",
    "                                    \"Age\":\"age\",\n",
    "                           \"SibSp\":\"sib_sp\",\n",
    "                           \"Parch\":\"parch\",\n",
    "                           \"Ticket\":\"ticket\",\n",
    "                           \"Fare\":\"fare\",\n",
    "                           \"Cabin\":\"cabin\",\n",
    "                           \"Embarked\":\"embarked\",\n",
    "                          \"Survived\":\"survived\"})\n",
    "train.head() # checking"
   ]
  },
  {
   "cell_type": "code",
   "execution_count": 12,
   "metadata": {
    "execution": {
     "iopub.execute_input": "2021-01-07T18:54:43.166607Z",
     "iopub.status.busy": "2021-01-07T18:54:43.16586Z",
     "iopub.status.idle": "2021-01-07T18:54:43.169938Z",
     "shell.execute_reply": "2021-01-07T18:54:43.170522Z"
    },
    "papermill": {
     "duration": 0.105055,
     "end_time": "2021-01-07T18:54:43.170682",
     "exception": false,
     "start_time": "2021-01-07T18:54:43.065627",
     "status": "completed"
    },
    "tags": []
   },
   "outputs": [
    {
     "data": {
      "text/html": [
       "<div>\n",
       "<style scoped>\n",
       "    .dataframe tbody tr th:only-of-type {\n",
       "        vertical-align: middle;\n",
       "    }\n",
       "\n",
       "    .dataframe tbody tr th {\n",
       "        vertical-align: top;\n",
       "    }\n",
       "\n",
       "    .dataframe thead th {\n",
       "        text-align: right;\n",
       "    }\n",
       "</style>\n",
       "<table border=\"1\" class=\"dataframe\">\n",
       "  <thead>\n",
       "    <tr style=\"text-align: right;\">\n",
       "      <th></th>\n",
       "      <th>id</th>\n",
       "      <th>p_class</th>\n",
       "      <th>name</th>\n",
       "      <th>sex</th>\n",
       "      <th>age</th>\n",
       "      <th>sib_sp</th>\n",
       "      <th>parch</th>\n",
       "      <th>ticket</th>\n",
       "      <th>fare</th>\n",
       "      <th>cabin</th>\n",
       "      <th>embarked</th>\n",
       "    </tr>\n",
       "  </thead>\n",
       "  <tbody>\n",
       "    <tr>\n",
       "      <th>0</th>\n",
       "      <td>892</td>\n",
       "      <td>3</td>\n",
       "      <td>Kelly, Mr. James</td>\n",
       "      <td>male</td>\n",
       "      <td>34.5</td>\n",
       "      <td>0</td>\n",
       "      <td>0</td>\n",
       "      <td>330911</td>\n",
       "      <td>7.8292</td>\n",
       "      <td>NaN</td>\n",
       "      <td>Q</td>\n",
       "    </tr>\n",
       "    <tr>\n",
       "      <th>1</th>\n",
       "      <td>893</td>\n",
       "      <td>3</td>\n",
       "      <td>Wilkes, Mrs. James (Ellen Needs)</td>\n",
       "      <td>female</td>\n",
       "      <td>47.0</td>\n",
       "      <td>1</td>\n",
       "      <td>0</td>\n",
       "      <td>363272</td>\n",
       "      <td>7.0000</td>\n",
       "      <td>NaN</td>\n",
       "      <td>S</td>\n",
       "    </tr>\n",
       "    <tr>\n",
       "      <th>2</th>\n",
       "      <td>894</td>\n",
       "      <td>2</td>\n",
       "      <td>Myles, Mr. Thomas Francis</td>\n",
       "      <td>male</td>\n",
       "      <td>62.0</td>\n",
       "      <td>0</td>\n",
       "      <td>0</td>\n",
       "      <td>240276</td>\n",
       "      <td>9.6875</td>\n",
       "      <td>NaN</td>\n",
       "      <td>Q</td>\n",
       "    </tr>\n",
       "    <tr>\n",
       "      <th>3</th>\n",
       "      <td>895</td>\n",
       "      <td>3</td>\n",
       "      <td>Wirz, Mr. Albert</td>\n",
       "      <td>male</td>\n",
       "      <td>27.0</td>\n",
       "      <td>0</td>\n",
       "      <td>0</td>\n",
       "      <td>315154</td>\n",
       "      <td>8.6625</td>\n",
       "      <td>NaN</td>\n",
       "      <td>S</td>\n",
       "    </tr>\n",
       "    <tr>\n",
       "      <th>4</th>\n",
       "      <td>896</td>\n",
       "      <td>3</td>\n",
       "      <td>Hirvonen, Mrs. Alexander (Helga E Lindqvist)</td>\n",
       "      <td>female</td>\n",
       "      <td>22.0</td>\n",
       "      <td>1</td>\n",
       "      <td>1</td>\n",
       "      <td>3101298</td>\n",
       "      <td>12.2875</td>\n",
       "      <td>NaN</td>\n",
       "      <td>S</td>\n",
       "    </tr>\n",
       "  </tbody>\n",
       "</table>\n",
       "</div>"
      ],
      "text/plain": [
       "    id  p_class                                          name     sex   age  \\\n",
       "0  892        3                              Kelly, Mr. James    male  34.5   \n",
       "1  893        3              Wilkes, Mrs. James (Ellen Needs)  female  47.0   \n",
       "2  894        2                     Myles, Mr. Thomas Francis    male  62.0   \n",
       "3  895        3                              Wirz, Mr. Albert    male  27.0   \n",
       "4  896        3  Hirvonen, Mrs. Alexander (Helga E Lindqvist)  female  22.0   \n",
       "\n",
       "   sib_sp  parch   ticket     fare cabin embarked  \n",
       "0       0      0   330911   7.8292   NaN        Q  \n",
       "1       1      0   363272   7.0000   NaN        S  \n",
       "2       0      0   240276   9.6875   NaN        Q  \n",
       "3       0      0   315154   8.6625   NaN        S  \n",
       "4       1      1  3101298  12.2875   NaN        S  "
      ]
     },
     "execution_count": 12,
     "metadata": {},
     "output_type": "execute_result"
    }
   ],
   "source": [
    "# renaming test columns\n",
    "test = test.rename(columns={'PassengerId':\"id\",\n",
    "                                    'Pclass':'p_class',\n",
    "                                    'Name':\"name\",\n",
    "                                    \"Sex\":\"sex\",\n",
    "                                    \"Age\":\"age\",\n",
    "                           \"SibSp\":\"sib_sp\",\n",
    "                           \"Parch\":\"parch\",\n",
    "                           \"Ticket\":\"ticket\",\n",
    "                           \"Fare\":\"fare\",\n",
    "                           \"Cabin\":\"cabin\",\n",
    "                           \"Embarked\":\"embarked\"})\n",
    "\n",
    "test.head() # checking"
   ]
  },
  {
   "cell_type": "markdown",
   "metadata": {
    "papermill": {
     "duration": 0.084661,
     "end_time": "2021-01-07T18:54:43.340965",
     "exception": false,
     "start_time": "2021-01-07T18:54:43.256304",
     "status": "completed"
    },
    "tags": []
   },
   "source": [
    "### Creating a data dictionary"
   ]
  },
  {
   "cell_type": "markdown",
   "metadata": {
    "papermill": {
     "duration": 0.084059,
     "end_time": "2021-01-07T18:54:43.51014",
     "exception": false,
     "start_time": "2021-01-07T18:54:43.426081",
     "status": "completed"
    },
    "tags": []
   },
   "source": [
    "\n",
    "* id -- PassengerId\n",
    "* survived -- 0 = No, 1 = Yes\n",
    "* p_class -- Ticket class\t1 = 1st, 2 = 2nd, 3 = 3rd\n",
    "* name -- Passenger name \n",
    "* sex -- male / female \t\n",
    "* age -- age in years\t\n",
    "* sib_sp -- no. of siblings / spouses aboard the Titanic\t\n",
    "* parch -- no. of parents / children aboard the Titanic\t\n",
    "* ticket -- Ticket number\t\n",
    "* fare -- Passenger fare\t\n",
    "* cabin -- Cabin number\t\n",
    "* embarked -- Port of Embarkation\tC = Cherbourg, Q = Queenstown, S = Southampton\n",
    "\n",
    "\t\t\t\t\t\t"
   ]
  },
  {
   "cell_type": "markdown",
   "metadata": {
    "papermill": {
     "duration": 0.085082,
     "end_time": "2021-01-07T18:54:44.383281",
     "exception": false,
     "start_time": "2021-01-07T18:54:44.298199",
     "status": "completed"
    },
    "tags": []
   },
   "source": [
    "###  Filling missing data.\n",
    "\n",
    "**filling missing data with the port of highest embarkation**"
   ]
  },
  {
   "cell_type": "code",
   "execution_count": 13,
   "metadata": {
    "execution": {
     "iopub.execute_input": "2021-01-07T18:54:44.209982Z",
     "iopub.status.busy": "2021-01-07T18:54:44.199883Z",
     "iopub.status.idle": "2021-01-07T18:54:44.213586Z",
     "shell.execute_reply": "2021-01-07T18:54:44.214148Z"
    },
    "papermill": {
     "duration": 0.103086,
     "end_time": "2021-01-07T18:54:44.214309",
     "exception": false,
     "start_time": "2021-01-07T18:54:44.111223",
     "status": "completed"
    },
    "scrolled": true,
    "tags": []
   },
   "outputs": [
    {
     "data": {
      "text/plain": [
       "S    644\n",
       "C    168\n",
       "Q     77\n",
       "Name: embarked, dtype: int64"
      ]
     },
     "execution_count": 13,
     "metadata": {},
     "output_type": "execute_result"
    }
   ],
   "source": [
    "# displying how many ports are in Embarked column?(train data)\n",
    "train.embarked.value_counts()"
   ]
  },
  {
   "cell_type": "code",
   "execution_count": 14,
   "metadata": {
    "execution": {
     "iopub.execute_input": "2021-01-07T18:54:44.555924Z",
     "iopub.status.busy": "2021-01-07T18:54:44.555163Z",
     "iopub.status.idle": "2021-01-07T18:54:44.570182Z",
     "shell.execute_reply": "2021-01-07T18:54:44.570772Z"
    },
    "papermill": {
     "duration": 0.103122,
     "end_time": "2021-01-07T18:54:44.57095",
     "exception": false,
     "start_time": "2021-01-07T18:54:44.467828",
     "status": "completed"
    },
    "tags": []
   },
   "outputs": [
    {
     "data": {
      "text/plain": [
       "S    644\n",
       "C    170\n",
       "Q     77\n",
       "Name: embarked, dtype: int64"
      ]
     },
     "execution_count": 14,
     "metadata": {},
     "output_type": "execute_result"
    }
   ],
   "source": [
    "# code.\n",
    "# # S manually .\n",
    "# train['embarked']= train.embarked.replace(np.nan,'S')\n",
    "# train.embarked.value_counts()\n",
    "\n",
    "# S auto.\n",
    "max_em=train.loc[train.embarked.value_counts().max()]['embarked']\n",
    "train['embarked']= train.embarked.replace(np.nan,max_em)\n",
    "\n",
    "train.embarked.value_counts() # to check.\n"
   ]
  },
  {
   "cell_type": "markdown",
   "metadata": {
    "papermill": {
     "duration": 0.086501,
     "end_time": "2021-01-07T18:54:45.293538",
     "exception": false,
     "start_time": "2021-01-07T18:54:45.207037",
     "status": "completed"
    },
    "tags": []
   },
   "source": [
    "**(test data) What is the `Pclass` of missing fare in test dataset. Printing the complete row here.**"
   ]
  },
  {
   "cell_type": "code",
   "execution_count": 15,
   "metadata": {
    "execution": {
     "iopub.execute_input": "2021-01-07T18:54:45.472957Z",
     "iopub.status.busy": "2021-01-07T18:54:45.472097Z",
     "iopub.status.idle": "2021-01-07T18:54:45.486517Z",
     "shell.execute_reply": "2021-01-07T18:54:45.487082Z"
    },
    "papermill": {
     "duration": 0.104973,
     "end_time": "2021-01-07T18:54:45.487231",
     "exception": false,
     "start_time": "2021-01-07T18:54:45.382258",
     "status": "completed"
    },
    "scrolled": true,
    "tags": []
   },
   "outputs": [
    {
     "data": {
      "text/html": [
       "<div>\n",
       "<style scoped>\n",
       "    .dataframe tbody tr th:only-of-type {\n",
       "        vertical-align: middle;\n",
       "    }\n",
       "\n",
       "    .dataframe tbody tr th {\n",
       "        vertical-align: top;\n",
       "    }\n",
       "\n",
       "    .dataframe thead th {\n",
       "        text-align: right;\n",
       "    }\n",
       "</style>\n",
       "<table border=\"1\" class=\"dataframe\">\n",
       "  <thead>\n",
       "    <tr style=\"text-align: right;\">\n",
       "      <th></th>\n",
       "      <th>id</th>\n",
       "      <th>p_class</th>\n",
       "      <th>name</th>\n",
       "      <th>sex</th>\n",
       "      <th>age</th>\n",
       "      <th>sib_sp</th>\n",
       "      <th>parch</th>\n",
       "      <th>ticket</th>\n",
       "      <th>fare</th>\n",
       "      <th>cabin</th>\n",
       "      <th>embarked</th>\n",
       "    </tr>\n",
       "  </thead>\n",
       "  <tbody>\n",
       "    <tr>\n",
       "      <th>152</th>\n",
       "      <td>1044</td>\n",
       "      <td>3</td>\n",
       "      <td>Storey, Mr. Thomas</td>\n",
       "      <td>male</td>\n",
       "      <td>60.5</td>\n",
       "      <td>0</td>\n",
       "      <td>0</td>\n",
       "      <td>3701</td>\n",
       "      <td>NaN</td>\n",
       "      <td>NaN</td>\n",
       "      <td>S</td>\n",
       "    </tr>\n",
       "  </tbody>\n",
       "</table>\n",
       "</div>"
      ],
      "text/plain": [
       "       id  p_class                name   sex   age  sib_sp  parch ticket  \\\n",
       "152  1044        3  Storey, Mr. Thomas  male  60.5       0      0   3701   \n",
       "\n",
       "     fare cabin embarked  \n",
       "152   NaN   NaN        S  "
      ]
     },
     "execution_count": 15,
     "metadata": {},
     "output_type": "execute_result"
    }
   ],
   "source": [
    "test[test.fare.isnull()]"
   ]
  },
  {
   "cell_type": "markdown",
   "metadata": {
    "papermill": {
     "duration": 0.087207,
     "end_time": "2021-01-07T18:54:45.660125",
     "exception": false,
     "start_time": "2021-01-07T18:54:45.572918",
     "status": "completed"
    },
    "tags": []
   },
   "source": [
    "####  Computing the average of `Fare` of the missing `Pclass` (test data) "
   ]
  },
  {
   "cell_type": "code",
   "execution_count": 16,
   "metadata": {
    "execution": {
     "iopub.execute_input": "2021-01-07T18:54:45.83561Z",
     "iopub.status.busy": "2021-01-07T18:54:45.83492Z",
     "iopub.status.idle": "2021-01-07T18:54:45.849456Z",
     "shell.execute_reply": "2021-01-07T18:54:45.850023Z"
    },
    "papermill": {
     "duration": 0.104275,
     "end_time": "2021-01-07T18:54:45.850169",
     "exception": false,
     "start_time": "2021-01-07T18:54:45.745894",
     "status": "completed"
    },
    "tags": []
   },
   "outputs": [
    {
     "name": "stdout",
     "output_type": "stream",
     "text": [
      "The mean fare for the Pclass (for missing fare data) is:  12.459677880184334\n"
     ]
    }
   ],
   "source": [
    "x_mean= np.mean(test[test['p_class']==3]['fare'])\n",
    "print('The mean fare for the Pclass (for missing fare data) is: ', x_mean)"
   ]
  },
  {
   "cell_type": "markdown",
   "metadata": {
    "papermill": {
     "duration": 0.090111,
     "end_time": "2021-01-07T18:54:46.027647",
     "exception": false,
     "start_time": "2021-01-07T18:54:45.937536",
     "status": "completed"
    },
    "tags": []
   },
   "source": [
    "**Getting the mean fare, and filling the missing value of `Fare` with everyone from the same `Pclass` (test data)**"
   ]
  },
  {
   "cell_type": "code",
   "execution_count": 17,
   "metadata": {
    "execution": {
     "iopub.execute_input": "2021-01-07T18:54:46.204262Z",
     "iopub.status.busy": "2021-01-07T18:54:46.203599Z",
     "iopub.status.idle": "2021-01-07T18:54:46.217939Z",
     "shell.execute_reply": "2021-01-07T18:54:46.21852Z"
    },
    "papermill": {
     "duration": 0.104389,
     "end_time": "2021-01-07T18:54:46.218688",
     "exception": false,
     "start_time": "2021-01-07T18:54:46.114299",
     "status": "completed"
    },
    "tags": []
   },
   "outputs": [
    {
     "data": {
      "text/html": [
       "<div>\n",
       "<style scoped>\n",
       "    .dataframe tbody tr th:only-of-type {\n",
       "        vertical-align: middle;\n",
       "    }\n",
       "\n",
       "    .dataframe tbody tr th {\n",
       "        vertical-align: top;\n",
       "    }\n",
       "\n",
       "    .dataframe thead th {\n",
       "        text-align: right;\n",
       "    }\n",
       "</style>\n",
       "<table border=\"1\" class=\"dataframe\">\n",
       "  <thead>\n",
       "    <tr style=\"text-align: right;\">\n",
       "      <th></th>\n",
       "      <th>id</th>\n",
       "      <th>p_class</th>\n",
       "      <th>name</th>\n",
       "      <th>sex</th>\n",
       "      <th>age</th>\n",
       "      <th>sib_sp</th>\n",
       "      <th>parch</th>\n",
       "      <th>ticket</th>\n",
       "      <th>fare</th>\n",
       "      <th>cabin</th>\n",
       "      <th>embarked</th>\n",
       "    </tr>\n",
       "  </thead>\n",
       "  <tbody>\n",
       "    <tr>\n",
       "      <th>152</th>\n",
       "      <td>1044</td>\n",
       "      <td>3</td>\n",
       "      <td>Storey, Mr. Thomas</td>\n",
       "      <td>male</td>\n",
       "      <td>60.5</td>\n",
       "      <td>0</td>\n",
       "      <td>0</td>\n",
       "      <td>3701</td>\n",
       "      <td>12.459678</td>\n",
       "      <td>NaN</td>\n",
       "      <td>S</td>\n",
       "    </tr>\n",
       "  </tbody>\n",
       "</table>\n",
       "</div>"
      ],
      "text/plain": [
       "       id  p_class                name   sex   age  sib_sp  parch ticket  \\\n",
       "152  1044        3  Storey, Mr. Thomas  male  60.5       0      0   3701   \n",
       "\n",
       "          fare cabin embarked  \n",
       "152  12.459678   NaN        S  "
      ]
     },
     "execution_count": 17,
     "metadata": {},
     "output_type": "execute_result"
    }
   ],
   "source": [
    "# only one data point has a null value in the Fare column. \n",
    "# The data point has 3 in Pclass= 3 column.\n",
    "# Therefore, replacing the null value with the average of fares in class 3. \n",
    "\n",
    "test['fare']= test.fare.replace(np.nan,x_mean)\n",
    "\n",
    "test[test['id']==1044]"
   ]
  },
  {
   "cell_type": "code",
   "execution_count": 18,
   "metadata": {
    "execution": {
     "iopub.execute_input": "2021-01-07T18:54:46.396465Z",
     "iopub.status.busy": "2021-01-07T18:54:46.395763Z",
     "iopub.status.idle": "2021-01-07T18:54:46.409439Z",
     "shell.execute_reply": "2021-01-07T18:54:46.410021Z"
    },
    "papermill": {
     "duration": 0.104997,
     "end_time": "2021-01-07T18:54:46.410171",
     "exception": false,
     "start_time": "2021-01-07T18:54:46.305174",
     "status": "completed"
    },
    "tags": []
   },
   "outputs": [
    {
     "data": {
      "text/plain": [
       "id            0\n",
       "p_class       0\n",
       "name          0\n",
       "sex           0\n",
       "age          86\n",
       "sib_sp        0\n",
       "parch         0\n",
       "ticket        0\n",
       "fare          0\n",
       "cabin       327\n",
       "embarked      0\n",
       "dtype: int64"
      ]
     },
     "execution_count": 18,
     "metadata": {},
     "output_type": "execute_result"
    }
   ],
   "source": [
    "test.isna().sum() # to check null values in Fare column."
   ]
  },
  {
   "cell_type": "markdown",
   "metadata": {
    "papermill": {
     "duration": 0.087276,
     "end_time": "2021-01-07T18:54:46.585326",
     "exception": false,
     "start_time": "2021-01-07T18:54:46.49805",
     "status": "completed"
    },
    "tags": []
   },
   "source": [
    "### Treating the `Age` column\n",
    "\n",
    "**computing mean age of each Pclass in the train data**"
   ]
  },
  {
   "cell_type": "code",
   "execution_count": 19,
   "metadata": {
    "execution": {
     "iopub.execute_input": "2021-01-07T18:54:46.76794Z",
     "iopub.status.busy": "2021-01-07T18:54:46.767227Z",
     "iopub.status.idle": "2021-01-07T18:54:46.782764Z",
     "shell.execute_reply": "2021-01-07T18:54:46.783433Z"
    },
    "papermill": {
     "duration": 0.108708,
     "end_time": "2021-01-07T18:54:46.783599",
     "exception": false,
     "start_time": "2021-01-07T18:54:46.674891",
     "status": "completed"
    },
    "tags": []
   },
   "outputs": [
    {
     "data": {
      "text/plain": [
       "{1: 38.233440860215055, 2: 29.87763005780347, 3: 25.14061971830986}"
      ]
     },
     "execution_count": 19,
     "metadata": {},
     "output_type": "execute_result"
    }
   ],
   "source": [
    "list_a={}\n",
    "for i in sorted(train['p_class'].unique()): # for each class.\n",
    "# saving it as dictionary type and use it for the following questions.\n",
    "    list_a[i]= np.mean(train[train['p_class']==i]['age']) # Calculating the fare average for each class.\n",
    "list_a    "
   ]
  },
  {
   "cell_type": "markdown",
   "metadata": {
    "papermill": {
     "duration": 0.087978,
     "end_time": "2021-01-07T18:54:46.962119",
     "exception": false,
     "start_time": "2021-01-07T18:54:46.874141",
     "status": "completed"
    },
    "tags": []
   },
   "source": [
    "**Writing a function `impute_age` to fill the mean age with respect to each `Pclass`.**<br>"
   ]
  },
  {
   "cell_type": "code",
   "execution_count": 20,
   "metadata": {
    "execution": {
     "iopub.execute_input": "2021-01-07T18:54:47.536901Z",
     "iopub.status.busy": "2021-01-07T18:54:47.536214Z",
     "iopub.status.idle": "2021-01-07T18:54:47.553866Z",
     "shell.execute_reply": "2021-01-07T18:54:47.554476Z"
    },
    "papermill": {
     "duration": 0.110392,
     "end_time": "2021-01-07T18:54:47.554621",
     "exception": false,
     "start_time": "2021-01-07T18:54:47.444229",
     "status": "completed"
    },
    "tags": []
   },
   "outputs": [],
   "source": [
    "# manually:\n",
    "\n",
    "# train.loc[(train['class']==1) & (train['age'].isna()),'age']= list_a[1]\n",
    "# train.loc[(train['class']==2) & (train['age'].isna()),'age']= list_a[2]\n",
    "# train.loc[(train['class']==3) & (train['age'].isna()),'age']= list_a[3]\n",
    "\n",
    "# using function\n",
    "# defining a function 'impute_age'\n",
    "nu_classes=[]\n",
    "for i in train['p_class'].unique(): # get the unique values of Pclass column.  \n",
    "    nu_classes.append(i)\n",
    "nu_classes\n",
    "\n",
    "def impute_age(age_pclass): # train or test\n",
    "    # for each class, filling missing value in Age with it's ava.\n",
    "    for i in nu_classes: # 1,2,3\n",
    "        x_mean= list_a[i] # get ava.\n",
    "        # update and chane null values with ava.        \n",
    "        age_pclass.loc[(age_pclass['p_class']==i) & (age_pclass['age'].isna()),'age']= list_a[i]\n",
    "        \n",
    "# impute_age(train)\n",
    "# impute_age(test)\n",
    "# #train.head(32) # to check\n"
   ]
  },
  {
   "cell_type": "markdown",
   "metadata": {},
   "source": [
    "**Using the above function for both datasets (train and test) and filling the missing data in `Age` column accordingly.**"
   ]
  },
  {
   "cell_type": "code",
   "execution_count": 21,
   "metadata": {},
   "outputs": [],
   "source": [
    "# call the function to update train and test dataframes.\n",
    "# (for train) grab age and apply the impute_age, our custom function\n",
    "impute_age(train)\n",
    "# (for test) grab age and apply the impute_age, our custom function \n",
    "impute_age(test)"
   ]
  },
  {
   "cell_type": "code",
   "execution_count": 22,
   "metadata": {},
   "outputs": [
    {
     "data": {
      "text/plain": [
       "id            0\n",
       "survived      0\n",
       "p_class       0\n",
       "name          0\n",
       "sex           0\n",
       "age           0\n",
       "sib_sp        0\n",
       "parch         0\n",
       "ticket        0\n",
       "fare          0\n",
       "cabin       687\n",
       "embarked      0\n",
       "dtype: int64"
      ]
     },
     "execution_count": 22,
     "metadata": {},
     "output_type": "execute_result"
    }
   ],
   "source": [
    "train.isna().sum() # checking null values."
   ]
  },
  {
   "cell_type": "code",
   "execution_count": 23,
   "metadata": {},
   "outputs": [
    {
     "data": {
      "text/plain": [
       "id            0\n",
       "p_class       0\n",
       "name          0\n",
       "sex           0\n",
       "age           0\n",
       "sib_sp        0\n",
       "parch         0\n",
       "ticket        0\n",
       "fare          0\n",
       "cabin       327\n",
       "embarked      0\n",
       "dtype: int64"
      ]
     },
     "execution_count": 23,
     "metadata": {},
     "output_type": "execute_result"
    }
   ],
   "source": [
    "test.isna().sum() # checking null values."
   ]
  },
  {
   "cell_type": "markdown",
   "metadata": {
    "papermill": {
     "duration": 0.089355,
     "end_time": "2021-01-07T18:54:47.92274",
     "exception": false,
     "start_time": "2021-01-07T18:54:47.833385",
     "status": "completed"
    },
    "tags": []
   },
   "source": [
    "### Feature Engineering.\n",
    "\n",
    "\n",
    "\n",
    "####  Performing Feature Engineering on  `Cabin` column \n",
    "\n",
    "- If there originally was a value for `Cabin` -- putting 1\n",
    "- If the value is missing/null -- putting 0"
   ]
  },
  {
   "cell_type": "code",
   "execution_count": 24,
   "metadata": {},
   "outputs": [
    {
     "data": {
      "text/plain": [
       "array([0, 1], dtype=object)"
      ]
     },
     "execution_count": 24,
     "metadata": {},
     "output_type": "execute_result"
    }
   ],
   "source": [
    "# Updating Cabin column in train data frame.\n",
    "train.loc[pd.notna(train['cabin']), 'cabin'] = 1 # not null with 1\n",
    "train.loc[pd.isna(train['cabin']), 'cabin'] = 0 # null with 0\n",
    "\n",
    "train['cabin'].unique() # to check"
   ]
  },
  {
   "cell_type": "code",
   "execution_count": 25,
   "metadata": {},
   "outputs": [
    {
     "data": {
      "text/plain": [
       "array([0, 1], dtype=object)"
      ]
     },
     "execution_count": 25,
     "metadata": {},
     "output_type": "execute_result"
    }
   ],
   "source": [
    "# # Updating Cabin column in test data frame.\n",
    "test.loc[pd.notna(test['cabin']), 'cabin'] = 1 # not null with 1\n",
    "test.loc[pd.isna(test['cabin']), 'cabin'] = 0 # null with 0\n",
    "\n",
    "test['cabin'].unique() #to check"
   ]
  },
  {
   "cell_type": "code",
   "execution_count": 26,
   "metadata": {},
   "outputs": [
    {
     "data": {
      "text/plain": [
       "id          0\n",
       "survived    0\n",
       "p_class     0\n",
       "name        0\n",
       "sex         0\n",
       "age         0\n",
       "sib_sp      0\n",
       "parch       0\n",
       "ticket      0\n",
       "fare        0\n",
       "cabin       0\n",
       "embarked    0\n",
       "dtype: int64"
      ]
     },
     "execution_count": 26,
     "metadata": {},
     "output_type": "execute_result"
    }
   ],
   "source": [
    "train.isna().sum() # to check"
   ]
  },
  {
   "cell_type": "code",
   "execution_count": 27,
   "metadata": {},
   "outputs": [
    {
     "data": {
      "text/plain": [
       "id          0\n",
       "p_class     0\n",
       "name        0\n",
       "sex         0\n",
       "age         0\n",
       "sib_sp      0\n",
       "parch       0\n",
       "ticket      0\n",
       "fare        0\n",
       "cabin       0\n",
       "embarked    0\n",
       "dtype: int64"
      ]
     },
     "execution_count": 27,
     "metadata": {},
     "output_type": "execute_result"
    }
   ],
   "source": [
    "test.isna().sum() # to check"
   ]
  },
  {
   "cell_type": "code",
   "execution_count": 28,
   "metadata": {
    "execution": {
     "iopub.execute_input": "2021-01-07T18:54:50.116787Z",
     "iopub.status.busy": "2021-01-07T18:54:50.11609Z",
     "iopub.status.idle": "2021-01-07T18:54:50.839088Z",
     "shell.execute_reply": "2021-01-07T18:54:50.838413Z"
    },
    "papermill": {
     "duration": 0.822521,
     "end_time": "2021-01-07T18:54:50.839223",
     "exception": false,
     "start_time": "2021-01-07T18:54:50.016702",
     "status": "completed"
    },
    "tags": []
   },
   "outputs": [
    {
     "data": {
      "image/png": "[encoded data removed]",
      "text/plain": [
       "<Figure size 1296x432 with 2 Axes>"
      ]
     },
     "metadata": {
      "image/png": {
       "height": 372,
       "width": 1020
      },
      "needs_background": "light"
     },
     "output_type": "display_data"
    }
   ],
   "source": [
    "# re-visualization of null values.\n",
    "fig, ax = plt.subplots(nrows = 1, ncols = 2, figsize = (18, 6))\n",
    "\n",
    "# train data \n",
    "sns.heatmap(train.isnull(), yticklabels=False, ax = ax[0], cbar=False, cmap='viridis')\n",
    "ax[0].set_title('Train data')\n",
    "\n",
    "# test data\n",
    "sns.heatmap(test.isnull(), yticklabels=False, ax = ax[1], cbar=False, cmap='viridis')\n",
    "ax[1].set_title('Test data');"
   ]
  },
  {
   "cell_type": "markdown",
   "metadata": {},
   "source": [
    "#### Excellent, looks all good. No more missing data!\n",
    "\n",
    "###  Dummies"
   ]
  },
  {
   "cell_type": "code",
   "execution_count": 29,
   "metadata": {
    "execution": {
     "iopub.execute_input": "2021-01-07T18:54:51.693908Z",
     "iopub.status.busy": "2021-01-07T18:54:51.693007Z",
     "iopub.status.idle": "2021-01-07T18:54:51.698563Z",
     "shell.execute_reply": "2021-01-07T18:54:51.697899Z"
    },
    "papermill": {
     "duration": 0.118461,
     "end_time": "2021-01-07T18:54:51.698687",
     "exception": false,
     "start_time": "2021-01-07T18:54:51.580226",
     "status": "completed"
    },
    "tags": []
   },
   "outputs": [],
   "source": [
    "# Dummy the `Sex` and `Embarked` columns.\n",
    "\n",
    "\n",
    "train_final=train.copy()\n",
    "train_final= pd.get_dummies(train_final, columns=['sex'],drop_first=True)\n",
    "train_final= pd.get_dummies(train_final, columns=['embarked'],drop_first=True)\n",
    "\n",
    "\n",
    "train= pd.get_dummies(train, columns=['embarked']) # to get categorical column. \n",
    "train= pd.get_dummies(train, columns=['sex'])  # to get categorical column. \n",
    "\n"
   ]
  },
  {
   "cell_type": "code",
   "execution_count": 30,
   "metadata": {
    "execution": {
     "iopub.execute_input": "2021-01-07T18:54:51.908582Z",
     "iopub.status.busy": "2021-01-07T18:54:51.907915Z",
     "iopub.status.idle": "2021-01-07T18:54:51.912245Z",
     "shell.execute_reply": "2021-01-07T18:54:51.911702Z"
    },
    "papermill": {
     "duration": 0.116525,
     "end_time": "2021-01-07T18:54:51.912379",
     "exception": false,
     "start_time": "2021-01-07T18:54:51.795854",
     "status": "completed"
    },
    "tags": []
   },
   "outputs": [
    {
     "data": {
      "text/html": [
       "<div>\n",
       "<style scoped>\n",
       "    .dataframe tbody tr th:only-of-type {\n",
       "        vertical-align: middle;\n",
       "    }\n",
       "\n",
       "    .dataframe tbody tr th {\n",
       "        vertical-align: top;\n",
       "    }\n",
       "\n",
       "    .dataframe thead th {\n",
       "        text-align: right;\n",
       "    }\n",
       "</style>\n",
       "<table border=\"1\" class=\"dataframe\">\n",
       "  <thead>\n",
       "    <tr style=\"text-align: right;\">\n",
       "      <th></th>\n",
       "      <th>id</th>\n",
       "      <th>survived</th>\n",
       "      <th>p_class</th>\n",
       "      <th>name</th>\n",
       "      <th>age</th>\n",
       "      <th>sib_sp</th>\n",
       "      <th>parch</th>\n",
       "      <th>ticket</th>\n",
       "      <th>fare</th>\n",
       "      <th>cabin</th>\n",
       "      <th>embarked_C</th>\n",
       "      <th>embarked_Q</th>\n",
       "      <th>embarked_S</th>\n",
       "      <th>sex_female</th>\n",
       "      <th>sex_male</th>\n",
       "    </tr>\n",
       "  </thead>\n",
       "  <tbody>\n",
       "    <tr>\n",
       "      <th>0</th>\n",
       "      <td>1</td>\n",
       "      <td>0</td>\n",
       "      <td>3</td>\n",
       "      <td>Braund, Mr. Owen Harris</td>\n",
       "      <td>22.0</td>\n",
       "      <td>1</td>\n",
       "      <td>0</td>\n",
       "      <td>A/5 21171</td>\n",
       "      <td>7.2500</td>\n",
       "      <td>0</td>\n",
       "      <td>0</td>\n",
       "      <td>0</td>\n",
       "      <td>1</td>\n",
       "      <td>0</td>\n",
       "      <td>1</td>\n",
       "    </tr>\n",
       "    <tr>\n",
       "      <th>1</th>\n",
       "      <td>2</td>\n",
       "      <td>1</td>\n",
       "      <td>1</td>\n",
       "      <td>Cumings, Mrs. John Bradley (Florence Briggs Th...</td>\n",
       "      <td>38.0</td>\n",
       "      <td>1</td>\n",
       "      <td>0</td>\n",
       "      <td>PC 17599</td>\n",
       "      <td>71.2833</td>\n",
       "      <td>1</td>\n",
       "      <td>1</td>\n",
       "      <td>0</td>\n",
       "      <td>0</td>\n",
       "      <td>1</td>\n",
       "      <td>0</td>\n",
       "    </tr>\n",
       "    <tr>\n",
       "      <th>2</th>\n",
       "      <td>3</td>\n",
       "      <td>1</td>\n",
       "      <td>3</td>\n",
       "      <td>Heikkinen, Miss. Laina</td>\n",
       "      <td>26.0</td>\n",
       "      <td>0</td>\n",
       "      <td>0</td>\n",
       "      <td>STON/O2. 3101282</td>\n",
       "      <td>7.9250</td>\n",
       "      <td>0</td>\n",
       "      <td>0</td>\n",
       "      <td>0</td>\n",
       "      <td>1</td>\n",
       "      <td>1</td>\n",
       "      <td>0</td>\n",
       "    </tr>\n",
       "    <tr>\n",
       "      <th>3</th>\n",
       "      <td>4</td>\n",
       "      <td>1</td>\n",
       "      <td>1</td>\n",
       "      <td>Futrelle, Mrs. Jacques Heath (Lily May Peel)</td>\n",
       "      <td>35.0</td>\n",
       "      <td>1</td>\n",
       "      <td>0</td>\n",
       "      <td>113803</td>\n",
       "      <td>53.1000</td>\n",
       "      <td>1</td>\n",
       "      <td>0</td>\n",
       "      <td>0</td>\n",
       "      <td>1</td>\n",
       "      <td>1</td>\n",
       "      <td>0</td>\n",
       "    </tr>\n",
       "    <tr>\n",
       "      <th>4</th>\n",
       "      <td>5</td>\n",
       "      <td>0</td>\n",
       "      <td>3</td>\n",
       "      <td>Allen, Mr. William Henry</td>\n",
       "      <td>35.0</td>\n",
       "      <td>0</td>\n",
       "      <td>0</td>\n",
       "      <td>373450</td>\n",
       "      <td>8.0500</td>\n",
       "      <td>0</td>\n",
       "      <td>0</td>\n",
       "      <td>0</td>\n",
       "      <td>1</td>\n",
       "      <td>0</td>\n",
       "      <td>1</td>\n",
       "    </tr>\n",
       "  </tbody>\n",
       "</table>\n",
       "</div>"
      ],
      "text/plain": [
       "   id  survived  p_class                                               name  \\\n",
       "0   1         0        3                            Braund, Mr. Owen Harris   \n",
       "1   2         1        1  Cumings, Mrs. John Bradley (Florence Briggs Th...   \n",
       "2   3         1        3                             Heikkinen, Miss. Laina   \n",
       "3   4         1        1       Futrelle, Mrs. Jacques Heath (Lily May Peel)   \n",
       "4   5         0        3                           Allen, Mr. William Henry   \n",
       "\n",
       "    age  sib_sp  parch            ticket     fare cabin  embarked_C  \\\n",
       "0  22.0       1      0         A/5 21171   7.2500     0           0   \n",
       "1  38.0       1      0          PC 17599  71.2833     1           1   \n",
       "2  26.0       0      0  STON/O2. 3101282   7.9250     0           0   \n",
       "3  35.0       1      0            113803  53.1000     1           0   \n",
       "4  35.0       0      0            373450   8.0500     0           0   \n",
       "\n",
       "   embarked_Q  embarked_S  sex_female  sex_male  \n",
       "0           0           1           0         1  \n",
       "1           0           0           1         0  \n",
       "2           0           1           1         0  \n",
       "3           0           1           1         0  \n",
       "4           0           1           0         1  "
      ]
     },
     "execution_count": 30,
     "metadata": {},
     "output_type": "execute_result"
    }
   ],
   "source": [
    "train.head() # to check."
   ]
  },
  {
   "cell_type": "code",
   "execution_count": 31,
   "metadata": {
    "execution": {
     "iopub.execute_input": "2021-01-07T18:54:52.114749Z",
     "iopub.status.busy": "2021-01-07T18:54:52.114057Z",
     "iopub.status.idle": "2021-01-07T18:54:52.126925Z",
     "shell.execute_reply": "2021-01-07T18:54:52.127521Z"
    },
    "papermill": {
     "duration": 0.116622,
     "end_time": "2021-01-07T18:54:52.127668",
     "exception": false,
     "start_time": "2021-01-07T18:54:52.011046",
     "status": "completed"
    },
    "tags": []
   },
   "outputs": [
    {
     "data": {
      "text/html": [
       "<div>\n",
       "<style scoped>\n",
       "    .dataframe tbody tr th:only-of-type {\n",
       "        vertical-align: middle;\n",
       "    }\n",
       "\n",
       "    .dataframe tbody tr th {\n",
       "        vertical-align: top;\n",
       "    }\n",
       "\n",
       "    .dataframe thead th {\n",
       "        text-align: right;\n",
       "    }\n",
       "</style>\n",
       "<table border=\"1\" class=\"dataframe\">\n",
       "  <thead>\n",
       "    <tr style=\"text-align: right;\">\n",
       "      <th></th>\n",
       "      <th>id</th>\n",
       "      <th>p_class</th>\n",
       "      <th>name</th>\n",
       "      <th>age</th>\n",
       "      <th>sib_sp</th>\n",
       "      <th>parch</th>\n",
       "      <th>ticket</th>\n",
       "      <th>fare</th>\n",
       "      <th>cabin</th>\n",
       "      <th>embarked_C</th>\n",
       "      <th>embarked_Q</th>\n",
       "      <th>embarked_S</th>\n",
       "      <th>sex_female</th>\n",
       "      <th>sex_male</th>\n",
       "    </tr>\n",
       "  </thead>\n",
       "  <tbody>\n",
       "    <tr>\n",
       "      <th>0</th>\n",
       "      <td>892</td>\n",
       "      <td>3</td>\n",
       "      <td>Kelly, Mr. James</td>\n",
       "      <td>34.5</td>\n",
       "      <td>0</td>\n",
       "      <td>0</td>\n",
       "      <td>330911</td>\n",
       "      <td>7.8292</td>\n",
       "      <td>0</td>\n",
       "      <td>0</td>\n",
       "      <td>1</td>\n",
       "      <td>0</td>\n",
       "      <td>0</td>\n",
       "      <td>1</td>\n",
       "    </tr>\n",
       "    <tr>\n",
       "      <th>1</th>\n",
       "      <td>893</td>\n",
       "      <td>3</td>\n",
       "      <td>Wilkes, Mrs. James (Ellen Needs)</td>\n",
       "      <td>47.0</td>\n",
       "      <td>1</td>\n",
       "      <td>0</td>\n",
       "      <td>363272</td>\n",
       "      <td>7.0000</td>\n",
       "      <td>0</td>\n",
       "      <td>0</td>\n",
       "      <td>0</td>\n",
       "      <td>1</td>\n",
       "      <td>1</td>\n",
       "      <td>0</td>\n",
       "    </tr>\n",
       "    <tr>\n",
       "      <th>2</th>\n",
       "      <td>894</td>\n",
       "      <td>2</td>\n",
       "      <td>Myles, Mr. Thomas Francis</td>\n",
       "      <td>62.0</td>\n",
       "      <td>0</td>\n",
       "      <td>0</td>\n",
       "      <td>240276</td>\n",
       "      <td>9.6875</td>\n",
       "      <td>0</td>\n",
       "      <td>0</td>\n",
       "      <td>1</td>\n",
       "      <td>0</td>\n",
       "      <td>0</td>\n",
       "      <td>1</td>\n",
       "    </tr>\n",
       "    <tr>\n",
       "      <th>3</th>\n",
       "      <td>895</td>\n",
       "      <td>3</td>\n",
       "      <td>Wirz, Mr. Albert</td>\n",
       "      <td>27.0</td>\n",
       "      <td>0</td>\n",
       "      <td>0</td>\n",
       "      <td>315154</td>\n",
       "      <td>8.6625</td>\n",
       "      <td>0</td>\n",
       "      <td>0</td>\n",
       "      <td>0</td>\n",
       "      <td>1</td>\n",
       "      <td>0</td>\n",
       "      <td>1</td>\n",
       "    </tr>\n",
       "    <tr>\n",
       "      <th>4</th>\n",
       "      <td>896</td>\n",
       "      <td>3</td>\n",
       "      <td>Hirvonen, Mrs. Alexander (Helga E Lindqvist)</td>\n",
       "      <td>22.0</td>\n",
       "      <td>1</td>\n",
       "      <td>1</td>\n",
       "      <td>3101298</td>\n",
       "      <td>12.2875</td>\n",
       "      <td>0</td>\n",
       "      <td>0</td>\n",
       "      <td>0</td>\n",
       "      <td>1</td>\n",
       "      <td>1</td>\n",
       "      <td>0</td>\n",
       "    </tr>\n",
       "  </tbody>\n",
       "</table>\n",
       "</div>"
      ],
      "text/plain": [
       "    id  p_class                                          name   age  sib_sp  \\\n",
       "0  892        3                              Kelly, Mr. James  34.5       0   \n",
       "1  893        3              Wilkes, Mrs. James (Ellen Needs)  47.0       1   \n",
       "2  894        2                     Myles, Mr. Thomas Francis  62.0       0   \n",
       "3  895        3                              Wirz, Mr. Albert  27.0       0   \n",
       "4  896        3  Hirvonen, Mrs. Alexander (Helga E Lindqvist)  22.0       1   \n",
       "\n",
       "   parch   ticket     fare cabin  embarked_C  embarked_Q  embarked_S  \\\n",
       "0      0   330911   7.8292     0           0           1           0   \n",
       "1      0   363272   7.0000     0           0           0           1   \n",
       "2      0   240276   9.6875     0           0           1           0   \n",
       "3      0   315154   8.6625     0           0           0           1   \n",
       "4      1  3101298  12.2875     0           0           0           1   \n",
       "\n",
       "   sex_female  sex_male  \n",
       "0           0         1  \n",
       "1           1         0  \n",
       "2           0         1  \n",
       "3           0         1  \n",
       "4           1         0  "
      ]
     },
     "execution_count": 31,
     "metadata": {},
     "output_type": "execute_result"
    }
   ],
   "source": [
    "\n",
    "\n",
    "test_final=test.copy()\n",
    "test_final= pd.get_dummies(test_final, columns=['sex'],drop_first=True)\n",
    "test_final= pd.get_dummies(test_final, columns=['embarked'],drop_first=True)\n",
    "\n",
    "\n",
    "\n",
    "test = pd.get_dummies(test, columns=['embarked'])  # to get categorical column. \n",
    "test = pd.get_dummies(test, columns=['sex'])  # to get categorical column. \n",
    "\n",
    "test.head() # to check."
   ]
  },
  {
   "cell_type": "markdown",
   "metadata": {},
   "source": [
    "**Using heatmap to compare the difference between above and below heatmaps, to see new columns after dummies**"
   ]
  },
  {
   "cell_type": "code",
   "execution_count": 32,
   "metadata": {
    "execution": {
     "iopub.execute_input": "2021-01-07T18:54:52.327821Z",
     "iopub.status.busy": "2021-01-07T18:54:52.327126Z",
     "iopub.status.idle": "2021-01-07T18:54:52.968085Z",
     "shell.execute_reply": "2021-01-07T18:54:52.968682Z"
    },
    "papermill": {
     "duration": 0.742308,
     "end_time": "2021-01-07T18:54:52.968828",
     "exception": false,
     "start_time": "2021-01-07T18:54:52.22652",
     "status": "completed"
    },
    "tags": []
   },
   "outputs": [
    {
     "data": {
      "image/png": "[encoded data removed]",
      "text/plain": [
       "<Figure size 1296x432 with 2 Axes>"
      ]
     },
     "metadata": {
      "image/png": {
       "height": 420,
       "width": 1018
      },
      "needs_background": "light"
     },
     "output_type": "display_data"
    }
   ],
   "source": [
    "fig, ax = plt.subplots(nrows = 1, ncols = 2, figsize = (18, 6))\n",
    "\n",
    "# train data \n",
    "sns.heatmap(train.isnull(), yticklabels=False, ax = ax[0], cbar=False, cmap='viridis')\n",
    "ax[0].set_title('Train data')\n",
    "\n",
    "# test data\n",
    "sns.heatmap(test.isnull(), yticklabels=False, ax = ax[1], cbar=False, cmap='viridis')\n",
    "ax[1].set_title('Test data');"
   ]
  },
  {
   "cell_type": "markdown",
   "metadata": {
    "papermill": {
     "duration": 0.100308,
     "end_time": "2021-01-07T18:54:53.41991",
     "exception": false,
     "start_time": "2021-01-07T18:54:53.319602",
     "status": "completed"
    },
    "tags": []
   },
   "source": [
    "####  - Statistical Measures\n"
   ]
  },
  {
   "cell_type": "markdown",
   "metadata": {},
   "source": [
    "**From displayed dataframes below, outliers can be noticed in different columns. More investigation is needed**"
   ]
  },
  {
   "cell_type": "code",
   "execution_count": 33,
   "metadata": {
    "execution": {
     "iopub.execute_input": "2021-01-07T18:54:53.625745Z",
     "iopub.status.busy": "2021-01-07T18:54:53.625015Z",
     "iopub.status.idle": "2021-01-07T18:54:53.639874Z",
     "shell.execute_reply": "2021-01-07T18:54:53.640377Z"
    },
    "papermill": {
     "duration": 0.119802,
     "end_time": "2021-01-07T18:54:53.640526",
     "exception": false,
     "start_time": "2021-01-07T18:54:53.520724",
     "status": "completed"
    },
    "tags": []
   },
   "outputs": [
    {
     "data": {
      "text/html": [
       "<div>\n",
       "<style scoped>\n",
       "    .dataframe tbody tr th:only-of-type {\n",
       "        vertical-align: middle;\n",
       "    }\n",
       "\n",
       "    .dataframe tbody tr th {\n",
       "        vertical-align: top;\n",
       "    }\n",
       "\n",
       "    .dataframe thead th {\n",
       "        text-align: right;\n",
       "    }\n",
       "</style>\n",
       "<table border=\"1\" class=\"dataframe\">\n",
       "  <thead>\n",
       "    <tr style=\"text-align: right;\">\n",
       "      <th></th>\n",
       "      <th>id</th>\n",
       "      <th>survived</th>\n",
       "      <th>p_class</th>\n",
       "      <th>age</th>\n",
       "      <th>sib_sp</th>\n",
       "      <th>parch</th>\n",
       "      <th>fare</th>\n",
       "      <th>embarked_C</th>\n",
       "      <th>embarked_Q</th>\n",
       "      <th>embarked_S</th>\n",
       "      <th>sex_female</th>\n",
       "      <th>sex_male</th>\n",
       "    </tr>\n",
       "  </thead>\n",
       "  <tbody>\n",
       "    <tr>\n",
       "      <th>count</th>\n",
       "      <td>891.000000</td>\n",
       "      <td>891.000000</td>\n",
       "      <td>891.000000</td>\n",
       "      <td>891.000000</td>\n",
       "      <td>891.000000</td>\n",
       "      <td>891.000000</td>\n",
       "      <td>891.000000</td>\n",
       "      <td>891.000000</td>\n",
       "      <td>891.000000</td>\n",
       "      <td>891.000000</td>\n",
       "      <td>891.000000</td>\n",
       "      <td>891.000000</td>\n",
       "    </tr>\n",
       "    <tr>\n",
       "      <th>mean</th>\n",
       "      <td>446.000000</td>\n",
       "      <td>0.383838</td>\n",
       "      <td>2.308642</td>\n",
       "      <td>29.292875</td>\n",
       "      <td>0.523008</td>\n",
       "      <td>0.381594</td>\n",
       "      <td>32.204208</td>\n",
       "      <td>0.190797</td>\n",
       "      <td>0.086420</td>\n",
       "      <td>0.722783</td>\n",
       "      <td>0.352413</td>\n",
       "      <td>0.647587</td>\n",
       "    </tr>\n",
       "    <tr>\n",
       "      <th>std</th>\n",
       "      <td>257.353842</td>\n",
       "      <td>0.486592</td>\n",
       "      <td>0.836071</td>\n",
       "      <td>13.210527</td>\n",
       "      <td>1.102743</td>\n",
       "      <td>0.806057</td>\n",
       "      <td>49.693429</td>\n",
       "      <td>0.393150</td>\n",
       "      <td>0.281141</td>\n",
       "      <td>0.447876</td>\n",
       "      <td>0.477990</td>\n",
       "      <td>0.477990</td>\n",
       "    </tr>\n",
       "    <tr>\n",
       "      <th>min</th>\n",
       "      <td>1.000000</td>\n",
       "      <td>0.000000</td>\n",
       "      <td>1.000000</td>\n",
       "      <td>0.420000</td>\n",
       "      <td>0.000000</td>\n",
       "      <td>0.000000</td>\n",
       "      <td>0.000000</td>\n",
       "      <td>0.000000</td>\n",
       "      <td>0.000000</td>\n",
       "      <td>0.000000</td>\n",
       "      <td>0.000000</td>\n",
       "      <td>0.000000</td>\n",
       "    </tr>\n",
       "    <tr>\n",
       "      <th>25%</th>\n",
       "      <td>223.500000</td>\n",
       "      <td>0.000000</td>\n",
       "      <td>2.000000</td>\n",
       "      <td>22.000000</td>\n",
       "      <td>0.000000</td>\n",
       "      <td>0.000000</td>\n",
       "      <td>7.910400</td>\n",
       "      <td>0.000000</td>\n",
       "      <td>0.000000</td>\n",
       "      <td>0.000000</td>\n",
       "      <td>0.000000</td>\n",
       "      <td>0.000000</td>\n",
       "    </tr>\n",
       "    <tr>\n",
       "      <th>50%</th>\n",
       "      <td>446.000000</td>\n",
       "      <td>0.000000</td>\n",
       "      <td>3.000000</td>\n",
       "      <td>26.000000</td>\n",
       "      <td>0.000000</td>\n",
       "      <td>0.000000</td>\n",
       "      <td>14.454200</td>\n",
       "      <td>0.000000</td>\n",
       "      <td>0.000000</td>\n",
       "      <td>1.000000</td>\n",
       "      <td>0.000000</td>\n",
       "      <td>1.000000</td>\n",
       "    </tr>\n",
       "    <tr>\n",
       "      <th>75%</th>\n",
       "      <td>668.500000</td>\n",
       "      <td>1.000000</td>\n",
       "      <td>3.000000</td>\n",
       "      <td>37.000000</td>\n",
       "      <td>1.000000</td>\n",
       "      <td>0.000000</td>\n",
       "      <td>31.000000</td>\n",
       "      <td>0.000000</td>\n",
       "      <td>0.000000</td>\n",
       "      <td>1.000000</td>\n",
       "      <td>1.000000</td>\n",
       "      <td>1.000000</td>\n",
       "    </tr>\n",
       "    <tr>\n",
       "      <th>max</th>\n",
       "      <td>891.000000</td>\n",
       "      <td>1.000000</td>\n",
       "      <td>3.000000</td>\n",
       "      <td>80.000000</td>\n",
       "      <td>8.000000</td>\n",
       "      <td>6.000000</td>\n",
       "      <td>512.329200</td>\n",
       "      <td>1.000000</td>\n",
       "      <td>1.000000</td>\n",
       "      <td>1.000000</td>\n",
       "      <td>1.000000</td>\n",
       "      <td>1.000000</td>\n",
       "    </tr>\n",
       "  </tbody>\n",
       "</table>\n",
       "</div>"
      ],
      "text/plain": [
       "               id    survived     p_class         age      sib_sp       parch  \\\n",
       "count  891.000000  891.000000  891.000000  891.000000  891.000000  891.000000   \n",
       "mean   446.000000    0.383838    2.308642   29.292875    0.523008    0.381594   \n",
       "std    257.353842    0.486592    0.836071   13.210527    1.102743    0.806057   \n",
       "min      1.000000    0.000000    1.000000    0.420000    0.000000    0.000000   \n",
       "25%    223.500000    0.000000    2.000000   22.000000    0.000000    0.000000   \n",
       "50%    446.000000    0.000000    3.000000   26.000000    0.000000    0.000000   \n",
       "75%    668.500000    1.000000    3.000000   37.000000    1.000000    0.000000   \n",
       "max    891.000000    1.000000    3.000000   80.000000    8.000000    6.000000   \n",
       "\n",
       "             fare  embarked_C  embarked_Q  embarked_S  sex_female    sex_male  \n",
       "count  891.000000  891.000000  891.000000  891.000000  891.000000  891.000000  \n",
       "mean    32.204208    0.190797    0.086420    0.722783    0.352413    0.647587  \n",
       "std     49.693429    0.393150    0.281141    0.447876    0.477990    0.477990  \n",
       "min      0.000000    0.000000    0.000000    0.000000    0.000000    0.000000  \n",
       "25%      7.910400    0.000000    0.000000    0.000000    0.000000    0.000000  \n",
       "50%     14.454200    0.000000    0.000000    1.000000    0.000000    1.000000  \n",
       "75%     31.000000    0.000000    0.000000    1.000000    1.000000    1.000000  \n",
       "max    512.329200    1.000000    1.000000    1.000000    1.000000    1.000000  "
      ]
     },
     "execution_count": 33,
     "metadata": {},
     "output_type": "execute_result"
    }
   ],
   "source": [
    "train.describe() # statics "
   ]
  },
  {
   "cell_type": "code",
   "execution_count": 34,
   "metadata": {
    "execution": {
     "iopub.execute_input": "2021-01-07T18:54:53.849078Z",
     "iopub.status.busy": "2021-01-07T18:54:53.848392Z",
     "iopub.status.idle": "2021-01-07T18:54:53.861968Z",
     "shell.execute_reply": "2021-01-07T18:54:53.862506Z"
    },
    "papermill": {
     "duration": 0.118792,
     "end_time": "2021-01-07T18:54:53.862673",
     "exception": false,
     "start_time": "2021-01-07T18:54:53.743881",
     "status": "completed"
    },
    "scrolled": true,
    "tags": []
   },
   "outputs": [
    {
     "data": {
      "text/html": [
       "<div>\n",
       "<style scoped>\n",
       "    .dataframe tbody tr th:only-of-type {\n",
       "        vertical-align: middle;\n",
       "    }\n",
       "\n",
       "    .dataframe tbody tr th {\n",
       "        vertical-align: top;\n",
       "    }\n",
       "\n",
       "    .dataframe thead th {\n",
       "        text-align: right;\n",
       "    }\n",
       "</style>\n",
       "<table border=\"1\" class=\"dataframe\">\n",
       "  <thead>\n",
       "    <tr style=\"text-align: right;\">\n",
       "      <th></th>\n",
       "      <th>id</th>\n",
       "      <th>p_class</th>\n",
       "      <th>age</th>\n",
       "      <th>sib_sp</th>\n",
       "      <th>parch</th>\n",
       "      <th>fare</th>\n",
       "      <th>embarked_C</th>\n",
       "      <th>embarked_Q</th>\n",
       "      <th>embarked_S</th>\n",
       "      <th>sex_female</th>\n",
       "      <th>sex_male</th>\n",
       "    </tr>\n",
       "  </thead>\n",
       "  <tbody>\n",
       "    <tr>\n",
       "      <th>count</th>\n",
       "      <td>418.000000</td>\n",
       "      <td>418.000000</td>\n",
       "      <td>418.000000</td>\n",
       "      <td>418.000000</td>\n",
       "      <td>418.000000</td>\n",
       "      <td>418.000000</td>\n",
       "      <td>418.000000</td>\n",
       "      <td>418.000000</td>\n",
       "      <td>418.000000</td>\n",
       "      <td>418.000000</td>\n",
       "      <td>418.000000</td>\n",
       "    </tr>\n",
       "    <tr>\n",
       "      <th>mean</th>\n",
       "      <td>1100.500000</td>\n",
       "      <td>2.265550</td>\n",
       "      <td>29.555296</td>\n",
       "      <td>0.447368</td>\n",
       "      <td>0.392344</td>\n",
       "      <td>35.571764</td>\n",
       "      <td>0.244019</td>\n",
       "      <td>0.110048</td>\n",
       "      <td>0.645933</td>\n",
       "      <td>0.363636</td>\n",
       "      <td>0.636364</td>\n",
       "    </tr>\n",
       "    <tr>\n",
       "      <th>std</th>\n",
       "      <td>120.810458</td>\n",
       "      <td>0.841838</td>\n",
       "      <td>12.846509</td>\n",
       "      <td>0.896760</td>\n",
       "      <td>0.981429</td>\n",
       "      <td>55.851997</td>\n",
       "      <td>0.430019</td>\n",
       "      <td>0.313324</td>\n",
       "      <td>0.478803</td>\n",
       "      <td>0.481622</td>\n",
       "      <td>0.481622</td>\n",
       "    </tr>\n",
       "    <tr>\n",
       "      <th>min</th>\n",
       "      <td>892.000000</td>\n",
       "      <td>1.000000</td>\n",
       "      <td>0.170000</td>\n",
       "      <td>0.000000</td>\n",
       "      <td>0.000000</td>\n",
       "      <td>0.000000</td>\n",
       "      <td>0.000000</td>\n",
       "      <td>0.000000</td>\n",
       "      <td>0.000000</td>\n",
       "      <td>0.000000</td>\n",
       "      <td>0.000000</td>\n",
       "    </tr>\n",
       "    <tr>\n",
       "      <th>25%</th>\n",
       "      <td>996.250000</td>\n",
       "      <td>1.000000</td>\n",
       "      <td>23.000000</td>\n",
       "      <td>0.000000</td>\n",
       "      <td>0.000000</td>\n",
       "      <td>7.895800</td>\n",
       "      <td>0.000000</td>\n",
       "      <td>0.000000</td>\n",
       "      <td>0.000000</td>\n",
       "      <td>0.000000</td>\n",
       "      <td>0.000000</td>\n",
       "    </tr>\n",
       "    <tr>\n",
       "      <th>50%</th>\n",
       "      <td>1100.500000</td>\n",
       "      <td>3.000000</td>\n",
       "      <td>25.140620</td>\n",
       "      <td>0.000000</td>\n",
       "      <td>0.000000</td>\n",
       "      <td>14.454200</td>\n",
       "      <td>0.000000</td>\n",
       "      <td>0.000000</td>\n",
       "      <td>1.000000</td>\n",
       "      <td>0.000000</td>\n",
       "      <td>1.000000</td>\n",
       "    </tr>\n",
       "    <tr>\n",
       "      <th>75%</th>\n",
       "      <td>1204.750000</td>\n",
       "      <td>3.000000</td>\n",
       "      <td>36.375000</td>\n",
       "      <td>1.000000</td>\n",
       "      <td>0.000000</td>\n",
       "      <td>31.471875</td>\n",
       "      <td>0.000000</td>\n",
       "      <td>0.000000</td>\n",
       "      <td>1.000000</td>\n",
       "      <td>1.000000</td>\n",
       "      <td>1.000000</td>\n",
       "    </tr>\n",
       "    <tr>\n",
       "      <th>max</th>\n",
       "      <td>1309.000000</td>\n",
       "      <td>3.000000</td>\n",
       "      <td>76.000000</td>\n",
       "      <td>8.000000</td>\n",
       "      <td>9.000000</td>\n",
       "      <td>512.329200</td>\n",
       "      <td>1.000000</td>\n",
       "      <td>1.000000</td>\n",
       "      <td>1.000000</td>\n",
       "      <td>1.000000</td>\n",
       "      <td>1.000000</td>\n",
       "    </tr>\n",
       "  </tbody>\n",
       "</table>\n",
       "</div>"
      ],
      "text/plain": [
       "                id     p_class         age      sib_sp       parch  \\\n",
       "count   418.000000  418.000000  418.000000  418.000000  418.000000   \n",
       "mean   1100.500000    2.265550   29.555296    0.447368    0.392344   \n",
       "std     120.810458    0.841838   12.846509    0.896760    0.981429   \n",
       "min     892.000000    1.000000    0.170000    0.000000    0.000000   \n",
       "25%     996.250000    1.000000   23.000000    0.000000    0.000000   \n",
       "50%    1100.500000    3.000000   25.140620    0.000000    0.000000   \n",
       "75%    1204.750000    3.000000   36.375000    1.000000    0.000000   \n",
       "max    1309.000000    3.000000   76.000000    8.000000    9.000000   \n",
       "\n",
       "             fare  embarked_C  embarked_Q  embarked_S  sex_female    sex_male  \n",
       "count  418.000000  418.000000  418.000000  418.000000  418.000000  418.000000  \n",
       "mean    35.571764    0.244019    0.110048    0.645933    0.363636    0.636364  \n",
       "std     55.851997    0.430019    0.313324    0.478803    0.481622    0.481622  \n",
       "min      0.000000    0.000000    0.000000    0.000000    0.000000    0.000000  \n",
       "25%      7.895800    0.000000    0.000000    0.000000    0.000000    0.000000  \n",
       "50%     14.454200    0.000000    0.000000    1.000000    0.000000    1.000000  \n",
       "75%     31.471875    0.000000    0.000000    1.000000    1.000000    1.000000  \n",
       "max    512.329200    1.000000    1.000000    1.000000    1.000000    1.000000  "
      ]
     },
     "execution_count": 34,
     "metadata": {},
     "output_type": "execute_result"
    }
   ],
   "source": [
    "test.describe() # statics "
   ]
  },
  {
   "cell_type": "markdown",
   "metadata": {},
   "source": [
    "## Visualization"
   ]
  },
  {
   "cell_type": "code",
   "execution_count": 35,
   "metadata": {
    "scrolled": false
   },
   "outputs": [
    {
     "data": {
      "image/png": "[encoded data removed]",
      "text/plain": [
       "<Figure size 1152x1152 with 2 Axes>"
      ]
     },
     "metadata": {
      "image/png": {
       "height": 915,
       "width": 865
      },
      "needs_background": "light"
     },
     "output_type": "display_data"
    }
   ],
   "source": [
    "# plotting heatmap to identify correlations\n",
    "fig, ax = plt.subplots(figsize = (16,16))\n",
    "sns.heatmap(train.corr(),annot = True, cmap = 'coolwarm')\n",
    "ax.set_title('Correlation Between Features');"
   ]
  },
  {
   "cell_type": "code",
   "execution_count": 36,
   "metadata": {},
   "outputs": [],
   "source": [
    "# function to have similar min/max values\n",
    "def var_standardized(var):\n",
    "    var_stand = (var-var.mean())/var.std()\n",
    "    return var_stand"
   ]
  },
  {
   "cell_type": "code",
   "execution_count": 37,
   "metadata": {
    "scrolled": true
   },
   "outputs": [
    {
     "data": {
      "image/png": "[encoded data removed]",
      "text/plain": [
       "<Figure size 1152x576 with 1 Axes>"
      ]
     },
     "metadata": {
      "image/png": {
       "height": 480,
       "width": 972
      },
      "needs_background": "light"
     },
     "output_type": "display_data"
    }
   ],
   "source": [
    "# plotting boxplot to investigate outliers\n",
    "merge_df_stand = var_standardized(\n",
    "    train.select_dtypes(exclude=['object']).drop(['id'], axis=1)) # only numeric columns and drop year. \n",
    "\n",
    "fig,ax=plt.subplots(figsize=(16,8)) # create figure with specific size  \n",
    "sns.boxplot(data=merge_df_stand, orient='h', fliersize=5, \n",
    "                 linewidth=3, notch=True, saturation=0.5, ax=ax) # plot \n",
    "plt.title('This plot is from standardized merged data frame'); # title.\n"
   ]
  },
  {
   "cell_type": "markdown",
   "metadata": {},
   "source": [
    "## outliers:\n",
    "- Fare, age, parch, sib_sp. The higest outliers are related to fare column. it might be a correlation between fare and survived.\n",
    "- It might be a correlatioin between class or age with survived.\n",
    "- We can remove one outlier from embarked_Q column.\n",
    "- all the above columns are not normal distribution.\n"
   ]
  },
  {
   "cell_type": "code",
   "execution_count": 38,
   "metadata": {
    "scrolled": true
   },
   "outputs": [
    {
     "name": "stderr",
     "output_type": "stream",
     "text": [
      "/Users/fahdahalalyan/opt/anaconda3/lib/python3.8/site-packages/seaborn/categorical.py:3704: UserWarning: The `factorplot` function has been renamed to `catplot`. The original name will be removed in a future release. Please update your code. Note that the default `kind` in `factorplot` (`'point'`) has changed `'strip'` in `catplot`.\n",
      "  warnings.warn(msg)\n",
      "/Users/fahdahalalyan/opt/anaconda3/lib/python3.8/site-packages/seaborn/_decorators.py:36: FutureWarning: Pass the following variable as a keyword arg: x. From version 0.12, the only valid positional argument will be `data`, and passing other arguments without an explicit keyword will result in an error or misinterpretation.\n",
      "  warnings.warn(\n"
     ]
    },
    {
     "data": {
      "text/plain": [
       "Text(0.5, 1.0, 'Survived vs. none-survived')"
      ]
     },
     "execution_count": 38,
     "metadata": {},
     "output_type": "execute_result"
    },
    {
     "data": {
      "image/png": "[encoded data removed]",
      "text/plain": [
       "<Figure size 360x360 with 1 Axes>"
      ]
     },
     "metadata": {
      "image/png": {
       "height": 384,
       "width": 366
      },
      "needs_background": "light"
     },
     "output_type": "display_data"
    }
   ],
   "source": [
    "# plotting Survived vs. none-survived\n",
    "ax= sns.factorplot('survived', data=train, kind='count')\n",
    "plt.title('Survived vs. none-survived', size=16)"
   ]
  },
  {
   "cell_type": "markdown",
   "metadata": {},
   "source": [
    "Overall survival. More people did not survived vs. survived."
   ]
  },
  {
   "cell_type": "code",
   "execution_count": 39,
   "metadata": {},
   "outputs": [
    {
     "data": {
      "image/png": "[encoded data removed]",
      "text/plain": [
       "<Figure size 432x288 with 1 Axes>"
      ]
     },
     "metadata": {
      "image/png": {
       "height": 277,
       "width": 398
      },
      "needs_background": "light"
     },
     "output_type": "display_data"
    }
   ],
   "source": [
    "# plotting Survival by gender\n",
    "ax2 =train.select_dtypes(exclude=['object']).drop(['id','fare','age','sib_sp','parch','embarked_Q','embarked_C','embarked_S', 'p_class'], axis=1).groupby('survived').mean().plot.bar()\n",
    "ax2.legend(loc=3) # move legend to have clear plot. \n",
    "ax2.legend(bbox_to_anchor=(1.1, 1.05))\n",
    "ax2.set_title('Survival by gender',fontsize=20); # title."
   ]
  },
  {
   "cell_type": "markdown",
   "metadata": {},
   "source": [
    "More female passengers survived compared to males."
   ]
  },
  {
   "cell_type": "code",
   "execution_count": 40,
   "metadata": {
    "scrolled": true
   },
   "outputs": [
    {
     "name": "stderr",
     "output_type": "stream",
     "text": [
      "/Users/fahdahalalyan/opt/anaconda3/lib/python3.8/site-packages/seaborn/_decorators.py:36: FutureWarning: Pass the following variable as a keyword arg: x. From version 0.12, the only valid positional argument will be `data`, and passing other arguments without an explicit keyword will result in an error or misinterpretation.\n",
      "  warnings.warn(\n"
     ]
    },
    {
     "data": {
      "image/png": "[encoded data removed]",
      "text/plain": [
       "<Figure size 432x288 with 1 Axes>"
      ]
     },
     "metadata": {
      "image/png": {
       "height": 276,
       "width": 386
      },
      "needs_background": "light"
     },
     "output_type": "display_data"
    }
   ],
   "source": [
    "# plotting Survival by class\n",
    "ax= sns.countplot('p_class',hue='survived',data=train)\n",
    "ax.set_title('Survival by class')\n",
    "\n",
    "plt.show()"
   ]
  },
  {
   "cell_type": "markdown",
   "metadata": {},
   "source": [
    "- The highest survival rates in passengers who assigned to class 1\n",
    "- The lowest survival rates in passengers who assigned to class 2.\n",
    "---\n",
    "- The highest mortality rates were recorded in class 3\n",
    "- The lowest mortality reates were recorded in class 1"
   ]
  },
  {
   "cell_type": "code",
   "execution_count": 41,
   "metadata": {},
   "outputs": [
    {
     "data": {
      "image/png": "[encoded data removed]",
      "text/plain": [
       "<Figure size 432x288 with 1 Axes>"
      ]
     },
     "metadata": {
      "image/png": {
       "height": 277,
       "width": 495
      },
      "needs_background": "light"
     },
     "output_type": "display_data"
    }
   ],
   "source": [
    "# plotting Gender by Class\n",
    "ax2 =train.select_dtypes(exclude=['object']).drop(['id','fare','age','sib_sp','parch','embarked_Q','embarked_C','embarked_S','survived'], axis=1).groupby('p_class').mean().plot.bar()\n",
    "ax2.legend(loc=3) # move legend to have clear plot. \n",
    "ax2.legend(bbox_to_anchor=(1.1, 1.05))\n",
    "ax2.set_title('Gender by Class',fontsize=20); # title."
   ]
  },
  {
   "cell_type": "markdown",
   "metadata": {},
   "source": [
    "- The number of males is higher than females in each class.\n",
    "- Class 3 has the highest number of male passengers\n",
    "- Class 3 has the lowest number of female passengers"
   ]
  },
  {
   "cell_type": "code",
   "execution_count": 42,
   "metadata": {
    "scrolled": false
   },
   "outputs": [
    {
     "data": {
      "image/png": "[encoded data removed]",
      "text/plain": [
       "<Figure size 432x288 with 1 Axes>"
      ]
     },
     "metadata": {
      "image/png": {
       "height": 277,
       "width": 398
      },
      "needs_background": "light"
     },
     "output_type": "display_data"
    }
   ],
   "source": [
    "# plotting survival by embarked \n",
    "ax2 =train.select_dtypes(exclude=['object']).drop(['id','fare','age','sib_sp','parch','sex_male', 'sex_female', 'p_class'], axis=1).groupby('survived').mean().plot.bar()\n",
    "ax2.legend(loc=3) # move legend to have clear plot. \n",
    "ax2.legend(bbox_to_anchor=(1.1, 1.05))\n",
    "ax2.set_title('Survival by Embarked',fontsize=20); # title."
   ]
  },
  {
   "cell_type": "markdown",
   "metadata": {},
   "source": [
    "- The highest survival rates were in passengers who embarked from S.\n",
    "\n",
    "- The lowsed survival rates were in passengers who embarked from port Q."
   ]
  },
  {
   "cell_type": "code",
   "execution_count": 43,
   "metadata": {},
   "outputs": [
    {
     "data": {
      "image/png": "[encoded data removed]",
      "text/plain": [
       "<Figure size 432x288 with 1 Axes>"
      ]
     },
     "metadata": {
      "image/png": {
       "height": 277,
       "width": 398
      },
      "needs_background": "light"
     },
     "output_type": "display_data"
    }
   ],
   "source": [
    "# plotting Embarked by class\n",
    "ax2 =train.select_dtypes(exclude=['object']).drop(['id','fare','age','sib_sp','parch','sex_male', 'sex_female', 'survived'], axis=1).groupby('p_class').mean().plot.bar()\n",
    "ax2.legend(loc=3) # move legend to have clear plot. \n",
    "ax2.legend(bbox_to_anchor=(1.1, 1.05))\n",
    "ax2.set_title('Embarked by class',fontsize=20); # title."
   ]
  },
  {
   "cell_type": "markdown",
   "metadata": {},
   "source": [
    "- Passengers from embarked S are the highest per each class\n",
    "- Passengers from embarked Q are the lowest for class 1 and 2"
   ]
  },
  {
   "cell_type": "code",
   "execution_count": 44,
   "metadata": {
    "scrolled": true
   },
   "outputs": [
    {
     "data": {
      "image/png": "[encoded data removed]",
      "text/plain": [
       "<Figure size 432x288 with 4 Axes>"
      ]
     },
     "metadata": {
      "image/png": {
       "height": 263,
       "width": 383
      },
      "needs_background": "light"
     },
     "output_type": "display_data"
    }
   ],
   "source": [
    "# plotting distribution of age for each class\n",
    "train.hist(column='age', by='p_class');"
   ]
  },
  {
   "cell_type": "markdown",
   "metadata": {},
   "source": [
    "- The higher the age the lower the class number\n",
    "- The lower the age the higher the class number\n",
    "- There is a negative correlation between age and class"
   ]
  },
  {
   "cell_type": "code",
   "execution_count": 45,
   "metadata": {
    "scrolled": false
   },
   "outputs": [
    {
     "data": {
      "image/png": "[encoded data removed]",
      "text/plain": [
       "<Figure size 432x288 with 2 Axes>"
      ]
     },
     "metadata": {
      "image/png": {
       "height": 263,
       "width": 383
      },
      "needs_background": "light"
     },
     "output_type": "display_data"
    }
   ],
   "source": [
    "# plotting the distribution of Age for survived and none-survived\n",
    "train.hist(column='age', by='survived');\n",
    "# survived: 1, none-survived: 0"
   ]
  },
  {
   "cell_type": "markdown",
   "metadata": {},
   "source": [
    "- The highest mortiality rates were in younger passengers\n",
    "\n",
    "- As a result from both plots above, yonger people (aged 20-35) were mostly in class three which is the cheapest class (economy class), most of which did not survive.\n"
   ]
  },
  {
   "cell_type": "code",
   "execution_count": 46,
   "metadata": {
    "scrolled": true
   },
   "outputs": [
    {
     "data": {
      "image/png": "[encoded data removed]",
      "text/plain": [
       "<Figure size 432x288 with 2 Axes>"
      ]
     },
     "metadata": {
      "image/png": {
       "height": 263,
       "width": 378
      },
      "needs_background": "light"
     },
     "output_type": "display_data"
    }
   ],
   "source": [
    "# plotting the distribution of age for each gender\n",
    "\n",
    "train.hist(column='age', by= 'sex_male');\n",
    "# male: 1, female: 0"
   ]
  },
  {
   "cell_type": "markdown",
   "metadata": {},
   "source": [
    "- Most passengers were males aged between 20 - 40"
   ]
  },
  {
   "cell_type": "markdown",
   "metadata": {},
   "source": [
    "##  Modeling"
   ]
  },
  {
   "cell_type": "code",
   "execution_count": 47,
   "metadata": {
    "execution": {
     "iopub.execute_input": "2021-01-07T18:54:54.071518Z",
     "iopub.status.busy": "2021-01-07T18:54:54.070797Z",
     "iopub.status.idle": "2021-01-07T18:54:54.075607Z",
     "shell.execute_reply": "2021-01-07T18:54:54.075056Z"
    },
    "papermill": {
     "duration": 0.109796,
     "end_time": "2021-01-07T18:54:54.075737",
     "exception": false,
     "start_time": "2021-01-07T18:54:53.965941",
     "status": "completed"
    },
    "tags": []
   },
   "outputs": [],
   "source": [
    "# Model Prep: Creating `X` and `y` variables\n",
    "features_drop = ['id','name', 'ticket', 'survived']"
   ]
  },
  {
   "cell_type": "code",
   "execution_count": 48,
   "metadata": {},
   "outputs": [
    {
     "data": {
      "text/plain": [
       "['p_class',\n",
       " 'age',\n",
       " 'sib_sp',\n",
       " 'parch',\n",
       " 'fare',\n",
       " 'cabin',\n",
       " 'embarked_C',\n",
       " 'embarked_Q',\n",
       " 'embarked_S',\n",
       " 'sex_female',\n",
       " 'sex_male']"
      ]
     },
     "execution_count": 48,
     "metadata": {},
     "output_type": "execute_result"
    }
   ],
   "source": [
    "# a list comprehension to select features of inetrest\n",
    "selected_features = [feature for feature in train.columns if feature not in features_drop]\n",
    "selected_features"
   ]
  },
  {
   "cell_type": "code",
   "execution_count": 49,
   "metadata": {
    "scrolled": true
   },
   "outputs": [
    {
     "data": {
      "text/plain": [
       "Index(['p_class', 'age', 'sib_sp', 'parch', 'fare', 'cabin', 'embarked_C',\n",
       "       'embarked_Q', 'embarked_S', 'sex_female', 'sex_male'],\n",
       "      dtype='object')"
      ]
     },
     "execution_count": 49,
     "metadata": {},
     "output_type": "execute_result"
    }
   ],
   "source": [
    "# geting the columns to check.\n",
    "train[selected_features].columns  "
   ]
  },
  {
   "cell_type": "code",
   "execution_count": 50,
   "metadata": {
    "execution": {
     "iopub.execute_input": "2021-01-07T18:54:54.954663Z",
     "iopub.status.busy": "2021-01-07T18:54:54.953946Z",
     "iopub.status.idle": "2021-01-07T18:54:54.957575Z",
     "shell.execute_reply": "2021-01-07T18:54:54.958131Z"
    },
    "papermill": {
     "duration": 0.120887,
     "end_time": "2021-01-07T18:54:54.958285",
     "exception": false,
     "start_time": "2021-01-07T18:54:54.837398",
     "status": "completed"
    },
    "tags": []
   },
   "outputs": [],
   "source": [
    "# (train data) separating the selected_column in `X_train` and `Survived` in `y_train`\n",
    "X_train = train[selected_features] \n",
    "y_train = train['survived'] "
   ]
  },
  {
   "cell_type": "code",
   "execution_count": 51,
   "metadata": {
    "execution": {
     "iopub.execute_input": "2021-01-07T18:54:55.170002Z",
     "iopub.status.busy": "2021-01-07T18:54:55.169288Z",
     "iopub.status.idle": "2021-01-07T18:54:55.183021Z",
     "shell.execute_reply": "2021-01-07T18:54:55.183541Z"
    },
    "papermill": {
     "duration": 0.121203,
     "end_time": "2021-01-07T18:54:55.183707",
     "exception": false,
     "start_time": "2021-01-07T18:54:55.062504",
     "status": "completed"
    },
    "tags": []
   },
   "outputs": [
    {
     "data": {
      "text/html": [
       "<div>\n",
       "<style scoped>\n",
       "    .dataframe tbody tr th:only-of-type {\n",
       "        vertical-align: middle;\n",
       "    }\n",
       "\n",
       "    .dataframe tbody tr th {\n",
       "        vertical-align: top;\n",
       "    }\n",
       "\n",
       "    .dataframe thead th {\n",
       "        text-align: right;\n",
       "    }\n",
       "</style>\n",
       "<table border=\"1\" class=\"dataframe\">\n",
       "  <thead>\n",
       "    <tr style=\"text-align: right;\">\n",
       "      <th></th>\n",
       "      <th>p_class</th>\n",
       "      <th>age</th>\n",
       "      <th>sib_sp</th>\n",
       "      <th>parch</th>\n",
       "      <th>fare</th>\n",
       "      <th>cabin</th>\n",
       "      <th>embarked_C</th>\n",
       "      <th>embarked_Q</th>\n",
       "      <th>embarked_S</th>\n",
       "      <th>sex_female</th>\n",
       "      <th>sex_male</th>\n",
       "    </tr>\n",
       "  </thead>\n",
       "  <tbody>\n",
       "    <tr>\n",
       "      <th>0</th>\n",
       "      <td>3</td>\n",
       "      <td>22.0</td>\n",
       "      <td>1</td>\n",
       "      <td>0</td>\n",
       "      <td>7.2500</td>\n",
       "      <td>0</td>\n",
       "      <td>0</td>\n",
       "      <td>0</td>\n",
       "      <td>1</td>\n",
       "      <td>0</td>\n",
       "      <td>1</td>\n",
       "    </tr>\n",
       "    <tr>\n",
       "      <th>1</th>\n",
       "      <td>1</td>\n",
       "      <td>38.0</td>\n",
       "      <td>1</td>\n",
       "      <td>0</td>\n",
       "      <td>71.2833</td>\n",
       "      <td>1</td>\n",
       "      <td>1</td>\n",
       "      <td>0</td>\n",
       "      <td>0</td>\n",
       "      <td>1</td>\n",
       "      <td>0</td>\n",
       "    </tr>\n",
       "    <tr>\n",
       "      <th>2</th>\n",
       "      <td>3</td>\n",
       "      <td>26.0</td>\n",
       "      <td>0</td>\n",
       "      <td>0</td>\n",
       "      <td>7.9250</td>\n",
       "      <td>0</td>\n",
       "      <td>0</td>\n",
       "      <td>0</td>\n",
       "      <td>1</td>\n",
       "      <td>1</td>\n",
       "      <td>0</td>\n",
       "    </tr>\n",
       "    <tr>\n",
       "      <th>3</th>\n",
       "      <td>1</td>\n",
       "      <td>35.0</td>\n",
       "      <td>1</td>\n",
       "      <td>0</td>\n",
       "      <td>53.1000</td>\n",
       "      <td>1</td>\n",
       "      <td>0</td>\n",
       "      <td>0</td>\n",
       "      <td>1</td>\n",
       "      <td>1</td>\n",
       "      <td>0</td>\n",
       "    </tr>\n",
       "    <tr>\n",
       "      <th>4</th>\n",
       "      <td>3</td>\n",
       "      <td>35.0</td>\n",
       "      <td>0</td>\n",
       "      <td>0</td>\n",
       "      <td>8.0500</td>\n",
       "      <td>0</td>\n",
       "      <td>0</td>\n",
       "      <td>0</td>\n",
       "      <td>1</td>\n",
       "      <td>0</td>\n",
       "      <td>1</td>\n",
       "    </tr>\n",
       "  </tbody>\n",
       "</table>\n",
       "</div>"
      ],
      "text/plain": [
       "   p_class   age  sib_sp  parch     fare cabin  embarked_C  embarked_Q  \\\n",
       "0        3  22.0       1      0   7.2500     0           0           0   \n",
       "1        1  38.0       1      0  71.2833     1           1           0   \n",
       "2        3  26.0       0      0   7.9250     0           0           0   \n",
       "3        1  35.0       1      0  53.1000     1           0           0   \n",
       "4        3  35.0       0      0   8.0500     0           0           0   \n",
       "\n",
       "   embarked_S  sex_female  sex_male  \n",
       "0           1           0         1  \n",
       "1           0           1         0  \n",
       "2           1           1         0  \n",
       "3           1           1         0  \n",
       "4           1           0         1  "
      ]
     },
     "execution_count": 51,
     "metadata": {},
     "output_type": "execute_result"
    }
   ],
   "source": [
    "X_train.head() # to check"
   ]
  },
  {
   "cell_type": "code",
   "execution_count": 52,
   "metadata": {
    "execution": {
     "iopub.execute_input": "2021-01-07T18:54:55.404792Z",
     "iopub.status.busy": "2021-01-07T18:54:55.404105Z",
     "iopub.status.idle": "2021-01-07T18:54:55.408919Z",
     "shell.execute_reply": "2021-01-07T18:54:55.408196Z"
    },
    "papermill": {
     "duration": 0.121574,
     "end_time": "2021-01-07T18:54:55.409046",
     "exception": false,
     "start_time": "2021-01-07T18:54:55.287472",
     "status": "completed"
    },
    "tags": []
   },
   "outputs": [
    {
     "data": {
      "text/plain": [
       "0    549\n",
       "1    342\n",
       "Name: survived, dtype: int64"
      ]
     },
     "execution_count": 52,
     "metadata": {},
     "output_type": "execute_result"
    }
   ],
   "source": [
    "y_train.value_counts() # this is our target for train data"
   ]
  },
  {
   "cell_type": "markdown",
   "metadata": {},
   "source": [
    "**computing baseline accuracy for train data**"
   ]
  },
  {
   "cell_type": "code",
   "execution_count": 53,
   "metadata": {
    "execution": {
     "iopub.execute_input": "2021-01-07T18:54:55.682751Z",
     "iopub.status.busy": "2021-01-07T18:54:55.682039Z",
     "iopub.status.idle": "2021-01-07T18:54:55.685863Z",
     "shell.execute_reply": "2021-01-07T18:54:55.686453Z"
    },
    "papermill": {
     "duration": 0.127607,
     "end_time": "2021-01-07T18:54:55.686607",
     "exception": false,
     "start_time": "2021-01-07T18:54:55.559",
     "status": "completed"
    },
    "tags": []
   },
   "outputs": [
    {
     "name": "stdout",
     "output_type": "stream",
     "text": [
      "0:  0.6161616161616161\n",
      "1:  0.38383838383838387\n"
     ]
    }
   ],
   "source": [
    "# Baseline accuracy (train data)\n",
    "baseline_acc = 1. - y_train[y_train == 0].shape[0]/y_train.shape[0]\n",
    "\n",
    "print('0: ', y_train[y_train == 0].shape[0]/y_train.shape[0])\n",
    "print('1: ', 1- y_train[y_train == 0].shape[0]/y_train.shape[0])"
   ]
  },
  {
   "cell_type": "markdown",
   "metadata": {},
   "source": [
    "#### Separating the test data into X_test and y_test. Using same features and target as above for the train data."
   ]
  },
  {
   "cell_type": "code",
   "execution_count": 54,
   "metadata": {
    "execution": {
     "iopub.execute_input": "2021-01-07T18:54:57.738657Z",
     "iopub.status.busy": "2021-01-07T18:54:57.737941Z",
     "iopub.status.idle": "2021-01-07T18:54:57.751056Z",
     "shell.execute_reply": "2021-01-07T18:54:57.751904Z"
    },
    "papermill": {
     "duration": 0.125652,
     "end_time": "2021-01-07T18:54:57.752081",
     "exception": false,
     "start_time": "2021-01-07T18:54:57.626429",
     "status": "completed"
    },
    "tags": []
   },
   "outputs": [],
   "source": [
    "X_test = test[selected_features] # # Separating the test data using a list comprehension as the train data.\n",
    "y_test = g_s_or['Survived']  # from Kaggle file (gender_submission.csv)"
   ]
  },
  {
   "cell_type": "code",
   "execution_count": 55,
   "metadata": {},
   "outputs": [
    {
     "data": {
      "text/plain": [
       "0    0\n",
       "1    1\n",
       "2    0\n",
       "3    0\n",
       "4    1\n",
       "Name: Survived, dtype: int64"
      ]
     },
     "execution_count": 55,
     "metadata": {},
     "output_type": "execute_result"
    }
   ],
   "source": [
    "y_test.head() # to check"
   ]
  },
  {
   "cell_type": "code",
   "execution_count": 56,
   "metadata": {},
   "outputs": [
    {
     "data": {
      "text/html": [
       "<div>\n",
       "<style scoped>\n",
       "    .dataframe tbody tr th:only-of-type {\n",
       "        vertical-align: middle;\n",
       "    }\n",
       "\n",
       "    .dataframe tbody tr th {\n",
       "        vertical-align: top;\n",
       "    }\n",
       "\n",
       "    .dataframe thead th {\n",
       "        text-align: right;\n",
       "    }\n",
       "</style>\n",
       "<table border=\"1\" class=\"dataframe\">\n",
       "  <thead>\n",
       "    <tr style=\"text-align: right;\">\n",
       "      <th></th>\n",
       "      <th>p_class</th>\n",
       "      <th>age</th>\n",
       "      <th>sib_sp</th>\n",
       "      <th>parch</th>\n",
       "      <th>fare</th>\n",
       "      <th>cabin</th>\n",
       "      <th>embarked_C</th>\n",
       "      <th>embarked_Q</th>\n",
       "      <th>embarked_S</th>\n",
       "      <th>sex_female</th>\n",
       "      <th>sex_male</th>\n",
       "    </tr>\n",
       "  </thead>\n",
       "  <tbody>\n",
       "    <tr>\n",
       "      <th>0</th>\n",
       "      <td>3</td>\n",
       "      <td>34.5</td>\n",
       "      <td>0</td>\n",
       "      <td>0</td>\n",
       "      <td>7.8292</td>\n",
       "      <td>0</td>\n",
       "      <td>0</td>\n",
       "      <td>1</td>\n",
       "      <td>0</td>\n",
       "      <td>0</td>\n",
       "      <td>1</td>\n",
       "    </tr>\n",
       "    <tr>\n",
       "      <th>1</th>\n",
       "      <td>3</td>\n",
       "      <td>47.0</td>\n",
       "      <td>1</td>\n",
       "      <td>0</td>\n",
       "      <td>7.0000</td>\n",
       "      <td>0</td>\n",
       "      <td>0</td>\n",
       "      <td>0</td>\n",
       "      <td>1</td>\n",
       "      <td>1</td>\n",
       "      <td>0</td>\n",
       "    </tr>\n",
       "    <tr>\n",
       "      <th>2</th>\n",
       "      <td>2</td>\n",
       "      <td>62.0</td>\n",
       "      <td>0</td>\n",
       "      <td>0</td>\n",
       "      <td>9.6875</td>\n",
       "      <td>0</td>\n",
       "      <td>0</td>\n",
       "      <td>1</td>\n",
       "      <td>0</td>\n",
       "      <td>0</td>\n",
       "      <td>1</td>\n",
       "    </tr>\n",
       "    <tr>\n",
       "      <th>3</th>\n",
       "      <td>3</td>\n",
       "      <td>27.0</td>\n",
       "      <td>0</td>\n",
       "      <td>0</td>\n",
       "      <td>8.6625</td>\n",
       "      <td>0</td>\n",
       "      <td>0</td>\n",
       "      <td>0</td>\n",
       "      <td>1</td>\n",
       "      <td>0</td>\n",
       "      <td>1</td>\n",
       "    </tr>\n",
       "    <tr>\n",
       "      <th>4</th>\n",
       "      <td>3</td>\n",
       "      <td>22.0</td>\n",
       "      <td>1</td>\n",
       "      <td>1</td>\n",
       "      <td>12.2875</td>\n",
       "      <td>0</td>\n",
       "      <td>0</td>\n",
       "      <td>0</td>\n",
       "      <td>1</td>\n",
       "      <td>1</td>\n",
       "      <td>0</td>\n",
       "    </tr>\n",
       "  </tbody>\n",
       "</table>\n",
       "</div>"
      ],
      "text/plain": [
       "   p_class   age  sib_sp  parch     fare cabin  embarked_C  embarked_Q  \\\n",
       "0        3  34.5       0      0   7.8292     0           0           1   \n",
       "1        3  47.0       1      0   7.0000     0           0           0   \n",
       "2        2  62.0       0      0   9.6875     0           0           1   \n",
       "3        3  27.0       0      0   8.6625     0           0           0   \n",
       "4        3  22.0       1      1  12.2875     0           0           0   \n",
       "\n",
       "   embarked_S  sex_female  sex_male  \n",
       "0           0           0         1  \n",
       "1           1           1         0  \n",
       "2           0           0         1  \n",
       "3           1           0         1  \n",
       "4           1           1         0  "
      ]
     },
     "execution_count": 56,
     "metadata": {},
     "output_type": "execute_result"
    }
   ],
   "source": [
    "X_test.head() # to check"
   ]
  },
  {
   "cell_type": "markdown",
   "metadata": {},
   "source": [
    "### Model instantiation\n",
    "\n",
    "### Random forest classifier"
   ]
  },
  {
   "cell_type": "code",
   "execution_count": 57,
   "metadata": {},
   "outputs": [
    {
     "data": {
      "text/plain": [
       "array([0, 0, 0, 1, 0])"
      ]
     },
     "execution_count": 57,
     "metadata": {},
     "output_type": "execute_result"
    }
   ],
   "source": [
    "# RF instance with 100 trees \n",
    "rf = RandomForestClassifier(n_estimators=100) \n",
    "\n",
    "# fitting rf classifier\n",
    "rf = rf.fit(X_train,y_train)\n",
    "\n",
    "# Obtaining the predictions for rf on test data.\n",
    "pred_rf = rf.predict(X_test) \n",
    "pred_rf[:5] # predictions of survival for X_test using random forest"
   ]
  },
  {
   "cell_type": "code",
   "execution_count": 58,
   "metadata": {},
   "outputs": [
    {
     "name": "stdout",
     "output_type": "stream",
     "text": [
      "Confusion Matrix for RF:\n",
      "[[225  41]\n",
      " [ 37 115]]\n",
      "Classification Report for RF:\n",
      "              precision    recall  f1-score   support\n",
      "\n",
      "     class 0       0.86      0.85      0.85       266\n",
      "     class 1       0.74      0.76      0.75       152\n",
      "\n",
      "    accuracy                           0.81       418\n",
      "   macro avg       0.80      0.80      0.80       418\n",
      "weighted avg       0.81      0.81      0.81       418\n",
      "\n"
     ]
    }
   ],
   "source": [
    "# RF confusion matrix and classification reports.\n",
    "\n",
    "# Based on Kaggle file (gender_submission.csv).\n",
    "y_true = y_test # get y_test which is the true labels on the test set.\n",
    "\n",
    "y_pred= pred_rf # get predicted labels on the test set.  \n",
    "print(f\"Confusion Matrix for RF:\\n{confusion_matrix(y_true,y_pred)}\")\n",
    "\n",
    "# Classification Report RF\n",
    "\n",
    "target_names = ['class 0', 'class 1']\n",
    "print(f\"Classification Report for RF:\\n{classification_report(y_true, y_pred, target_names=target_names)}\")\n"
   ]
  },
  {
   "cell_type": "markdown",
   "metadata": {},
   "source": [
    "#### Grid Search for Random Forest\n",
    "\n"
   ]
  },
  {
   "cell_type": "code",
   "execution_count": 59,
   "metadata": {},
   "outputs": [
    {
     "name": "stdout",
     "output_type": "stream",
     "text": [
      "Fitting 5 folds for each of 6 candidates, totalling 30 fits\n"
     ]
    },
    {
     "name": "stderr",
     "output_type": "stream",
     "text": [
      "[Parallel(n_jobs=1)]: Using backend SequentialBackend with 1 concurrent workers.\n",
      "[Parallel(n_jobs=1)]: Done  30 out of  30 | elapsed:    3.6s finished\n"
     ]
    },
    {
     "data": {
      "text/plain": [
       "{'cv': 5,\n",
       " 'error_score': nan,\n",
       " 'estimator__bootstrap': True,\n",
       " 'estimator__ccp_alpha': 0.0,\n",
       " 'estimator__class_weight': None,\n",
       " 'estimator__criterion': 'gini',\n",
       " 'estimator__max_depth': None,\n",
       " 'estimator__max_features': 'auto',\n",
       " 'estimator__max_leaf_nodes': None,\n",
       " 'estimator__max_samples': None,\n",
       " 'estimator__min_impurity_decrease': 0.0,\n",
       " 'estimator__min_impurity_split': None,\n",
       " 'estimator__min_samples_leaf': 1,\n",
       " 'estimator__min_samples_split': 2,\n",
       " 'estimator__min_weight_fraction_leaf': 0.0,\n",
       " 'estimator__n_estimators': 100,\n",
       " 'estimator__n_jobs': None,\n",
       " 'estimator__oob_score': False,\n",
       " 'estimator__random_state': None,\n",
       " 'estimator__verbose': 0,\n",
       " 'estimator__warm_start': False,\n",
       " 'estimator': RandomForestClassifier(),\n",
       " 'iid': 'deprecated',\n",
       " 'n_jobs': None,\n",
       " 'param_grid': {'max_depth': [1, 2, 3, 4, 5, 8]},\n",
       " 'pre_dispatch': '2*n_jobs',\n",
       " 'refit': True,\n",
       " 'return_train_score': 'warn',\n",
       " 'scoring': None,\n",
       " 'verbose': 1}"
      ]
     },
     "execution_count": 59,
     "metadata": {},
     "output_type": "execute_result"
    }
   ],
   "source": [
    "# Random Forest Classifier and grid search\n",
    "rf_g = RandomForestClassifier(bootstrap=True, class_weight=None, criterion='gini',\n",
    "            max_depth=None, max_features='auto', max_leaf_nodes=None,\n",
    "            min_impurity_decrease=0.0, min_impurity_split=None,\n",
    "            min_samples_leaf=1, min_samples_split=2,\n",
    "            min_weight_fraction_leaf=0.0, n_estimators=100, n_jobs=None,\n",
    "            oob_score=False, random_state=None, verbose=0,\n",
    "            warm_start=False) \n",
    "\n",
    "# Runing the GridSearch with CV = 5**\n",
    "\n",
    "gs = GridSearchCV(estimator= rf_g, cv=5, n_jobs=None,\n",
    "       param_grid={'max_depth': [1, 2, 3, 4, 5, 8]},\n",
    "       pre_dispatch='2*n_jobs', refit=True, return_train_score='warn',\n",
    "       scoring=None, verbose=1) \n",
    "\n",
    "# Fiting grid search\n",
    "gs.fit(X_train, y_train)\n",
    "gs.get_params()"
   ]
  },
  {
   "cell_type": "code",
   "execution_count": 60,
   "metadata": {},
   "outputs": [
    {
     "data": {
      "text/plain": [
       "0.8755980861244019"
      ]
     },
     "execution_count": 60,
     "metadata": {},
     "output_type": "execute_result"
    }
   ],
   "source": [
    "# the score after GridSearch on test data\n",
    "gs.score(X_test, y_test) # y_test == gender submission file from Kaggle.com"
   ]
  },
  {
   "cell_type": "code",
   "execution_count": 61,
   "metadata": {},
   "outputs": [
    {
     "data": {
      "text/plain": [
       "0.9169472502805837"
      ]
     },
     "execution_count": 61,
     "metadata": {},
     "output_type": "execute_result"
    }
   ],
   "source": [
    "# the score of your trained model after GridSearch on train data\n",
    "gs.score(X_train, y_train)"
   ]
  },
  {
   "cell_type": "code",
   "execution_count": 62,
   "metadata": {},
   "outputs": [
    {
     "data": {
      "text/plain": [
       "{'max_depth': 8}"
      ]
     },
     "execution_count": 62,
     "metadata": {},
     "output_type": "execute_result"
    }
   ],
   "source": [
    "#geting the best parameters.\n",
    "gs.best_params_"
   ]
  },
  {
   "cell_type": "code",
   "execution_count": 63,
   "metadata": {
    "scrolled": false
   },
   "outputs": [
    {
     "data": {
      "text/plain": [
       "{'cv': 5,\n",
       " 'error_score': nan,\n",
       " 'estimator__bootstrap': True,\n",
       " 'estimator__ccp_alpha': 0.0,\n",
       " 'estimator__class_weight': None,\n",
       " 'estimator__criterion': 'gini',\n",
       " 'estimator__max_depth': {'max_depth': 8},\n",
       " 'estimator__max_features': 'auto',\n",
       " 'estimator__max_leaf_nodes': None,\n",
       " 'estimator__max_samples': None,\n",
       " 'estimator__min_impurity_decrease': 0.0,\n",
       " 'estimator__min_impurity_split': None,\n",
       " 'estimator__min_samples_leaf': 1,\n",
       " 'estimator__min_samples_split': 2,\n",
       " 'estimator__min_weight_fraction_leaf': 0.0,\n",
       " 'estimator__n_estimators': 100,\n",
       " 'estimator__n_jobs': None,\n",
       " 'estimator__oob_score': False,\n",
       " 'estimator__random_state': None,\n",
       " 'estimator__verbose': 0,\n",
       " 'estimator__warm_start': False,\n",
       " 'estimator': RandomForestClassifier(max_depth={'max_depth': 8}),\n",
       " 'iid': 'deprecated',\n",
       " 'n_jobs': None,\n",
       " 'param_grid': {'max_depth': [1, 2, 3, 4, 5, 8]},\n",
       " 'pre_dispatch': '2*n_jobs',\n",
       " 'refit': True,\n",
       " 'return_train_score': 'warn',\n",
       " 'scoring': None,\n",
       " 'verbose': 1}"
      ]
     },
     "execution_count": 63,
     "metadata": {},
     "output_type": "execute_result"
    }
   ],
   "source": [
    "# best parameter of gridsearch\n",
    "rf_bset= RandomForestClassifier(bootstrap=True, class_weight=None, criterion='gini',\n",
    "            max_depth=gs.best_params_, max_features='auto', max_leaf_nodes=None,\n",
    "            min_impurity_decrease=0.0, min_impurity_split=None,\n",
    "            min_samples_leaf=1, min_samples_split=2,\n",
    "            min_weight_fraction_leaf=0.0, n_estimators=100, n_jobs=None,\n",
    "            oob_score=False, random_state=None, verbose=0,\n",
    "            warm_start=False)\n",
    "\n",
    "# gird search for random forest with best parameters\n",
    "gs_rf_bset = GridSearchCV(estimator= rf_bset , cv=5, n_jobs=None,\n",
    "       param_grid={'max_depth': [1, 2, 3, 4, 5, 8]},\n",
    "       pre_dispatch='2*n_jobs', refit=True, return_train_score='warn',\n",
    "       scoring=None, verbose=1) \n",
    "\n",
    "gs_rf_bset.get_params() # displaying parameters"
   ]
  },
  {
   "cell_type": "code",
   "execution_count": 64,
   "metadata": {},
   "outputs": [
    {
     "name": "stdout",
     "output_type": "stream",
     "text": [
      "Fitting 5 folds for each of 6 candidates, totalling 30 fits\n"
     ]
    },
    {
     "name": "stderr",
     "output_type": "stream",
     "text": [
      "[Parallel(n_jobs=1)]: Using backend SequentialBackend with 1 concurrent workers.\n",
      "[Parallel(n_jobs=1)]: Done  30 out of  30 | elapsed:    3.5s finished\n"
     ]
    },
    {
     "data": {
      "text/plain": [
       "0.9191919191919192"
      ]
     },
     "execution_count": 64,
     "metadata": {},
     "output_type": "execute_result"
    }
   ],
   "source": [
    "# Fitting train data using best model.\n",
    "gs_rf_bset.fit(X_train, y_train) # fit.\n",
    "\n",
    "# Getting prediction for the best model\n",
    "pred_rf_bset= gs_rf_bset.predict(X_test)\n",
    "pred_rf_bset[:5] # displaying sample\n",
    "\n",
    "gs_rf_bset.score(X_train, y_train)"
   ]
  },
  {
   "cell_type": "code",
   "execution_count": 65,
   "metadata": {
    "scrolled": true
   },
   "outputs": [
    {
     "name": "stdout",
     "output_type": "stream",
     "text": [
      "Confusion Matrix:\n",
      "[[244  22]\n",
      " [ 34 118]]\n",
      "Classification Report:\n",
      "              precision    recall  f1-score   support\n",
      "\n",
      "     class 0       0.88      0.92      0.90       266\n",
      "     class 1       0.84      0.78      0.81       152\n",
      "\n",
      "    accuracy                           0.87       418\n",
      "   macro avg       0.86      0.85      0.85       418\n",
      "weighted avg       0.87      0.87      0.86       418\n",
      "\n"
     ]
    }
   ],
   "source": [
    "#  confusion matrix\n",
    "#  pred_rf_bset confusion matrix and classification reports for the best model.\n",
    "y_true = y_test # get y_test which is the true labels on the test set.\n",
    "y_pred= pred_rf_bset # get predicted labels on the test set.  \n",
    "print(f\"Confusion Matrix:\\n{confusion_matrix(y_true,y_pred)}\")\n",
    "con_mat= confusion_matrix (y_true,y_pred,labels=[1,0])\n",
    "\n",
    "# Classification Report best model after gridsearch\n",
    "\n",
    "\n",
    "target_names = ['class 0', 'class 1']\n",
    "print(f\"Classification Report:\\n{classification_report(y_true, y_pred, target_names=target_names)}\")"
   ]
  },
  {
   "cell_type": "code",
   "execution_count": 66,
   "metadata": {},
   "outputs": [
    {
     "name": "stdout",
     "output_type": "stream",
     "text": [
      "0:  0.6650717703349283\n",
      "1:  0.33492822966507174\n"
     ]
    }
   ],
   "source": [
    "baseline_acc = 1. - y_pred[y_pred == 0].shape[0]/y_pred.shape[0]\n",
    "# print('Baseline:',baseline_acc) #not needed\n",
    "\n",
    "print('0: ', y_pred[y_pred == 0].shape[0]/y_pred.shape[0])\n",
    "print('1: ', 1- y_pred[y_pred == 0].shape[0]/y_pred.shape[0])\n",
    "\n",
    "# Kaggle Submission\n",
    "\n",
    "pred = gs_rf_bset.predict(X_test)\n",
    "g_s_or['Survived']= pred\n",
    "# Save the prediction into a file that matches the Kaggle submission requirements\n",
    "g_s_or[['PassengerId', 'Survived']].to_csv('../output data/submission_best_rf.csv',index=False)"
   ]
  },
  {
   "cell_type": "markdown",
   "metadata": {},
   "source": [
    " ### submitting above prediction to Kaggle resulted in score = 0.77272 "
   ]
  },
  {
   "cell_type": "markdown",
   "metadata": {},
   "source": [
    "#### Tuning the bagging classifiers with grid search"
   ]
  },
  {
   "cell_type": "code",
   "execution_count": 67,
   "metadata": {},
   "outputs": [
    {
     "name": "stderr",
     "output_type": "stream",
     "text": [
      "[Parallel(n_jobs=8)]: Using backend LokyBackend with 8 concurrent workers.\n",
      "[Parallel(n_jobs=8)]: Done   2 out of   8 | elapsed:    9.5s remaining:   28.4s\n",
      "[Parallel(n_jobs=8)]: Done   8 out of   8 | elapsed:   13.0s finished\n"
     ]
    },
    {
     "data": {
      "text/plain": [
       "BaggingClassifier(base_estimator=GridSearchCV(cv=5,\n",
       "                                              estimator=RandomForestClassifier(max_depth={'max_depth': 8}),\n",
       "                                              param_grid={'max_depth': [1, 2, 3,\n",
       "                                                                        4, 5,\n",
       "                                                                        8]},\n",
       "                                              return_train_score='warn',\n",
       "                                              verbose=1),\n",
       "                  n_jobs=-1, verbose=1)"
      ]
     },
     "execution_count": 67,
     "metadata": {},
     "output_type": "execute_result"
    }
   ],
   "source": [
    "# bagging classifiers with the above best grid search. \n",
    "model_gs = BaggingClassifier(base_estimator=gs_rf_bset, verbose=1, n_jobs=-1)\n",
    "model_gs.fit(X_train, y_train)"
   ]
  },
  {
   "cell_type": "code",
   "execution_count": 68,
   "metadata": {
    "scrolled": true
   },
   "outputs": [
    {
     "name": "stderr",
     "output_type": "stream",
     "text": [
      "[Parallel(n_jobs=8)]: Using backend LokyBackend with 8 concurrent workers.\n",
      "[Parallel(n_jobs=8)]: Done   2 out of   8 | elapsed:    0.1s remaining:    0.3s\n",
      "[Parallel(n_jobs=8)]: Done   8 out of   8 | elapsed:    0.2s finished\n"
     ]
    },
    {
     "data": {
      "text/plain": [
       "0.9079685746352413"
      ]
     },
     "execution_count": 68,
     "metadata": {},
     "output_type": "execute_result"
    }
   ],
   "source": [
    "model_gs.score(X_train, y_train)"
   ]
  },
  {
   "cell_type": "code",
   "execution_count": 69,
   "metadata": {},
   "outputs": [
    {
     "name": "stderr",
     "output_type": "stream",
     "text": [
      "[Parallel(n_jobs=8)]: Using backend LokyBackend with 8 concurrent workers.\n",
      "[Parallel(n_jobs=8)]: Done   2 out of   8 | elapsed:    0.1s remaining:    0.3s\n",
      "[Parallel(n_jobs=8)]: Done   8 out of   8 | elapsed:    0.2s finished\n"
     ]
    }
   ],
   "source": [
    "# Kaggle Submission , # PassengerId\n",
    "\n",
    "pred = model_gs.predict(X_test)\n",
    "g_s_or['Survived']= pred\n",
    "# Save the prediction into a file that matches the Kaggle submission requirements\n",
    "g_s_or[['PassengerId', 'Survived']].to_csv('../output data/submission_rf_bagging_best_grid_search.csv',index=False)"
   ]
  },
  {
   "cell_type": "markdown",
   "metadata": {},
   "source": [
    " ### submitting above prediction to Kaggle resulted in score = 0.77272, same as rf with gs"
   ]
  },
  {
   "cell_type": "markdown",
   "metadata": {
    "execution": {
     "iopub.execute_input": "2021-01-07T18:54:56.806294Z",
     "iopub.status.busy": "2021-01-07T18:54:56.80563Z",
     "iopub.status.idle": "2021-01-07T18:54:56.808986Z",
     "shell.execute_reply": "2021-01-07T18:54:56.808483Z"
    },
    "papermill": {
     "duration": 0.113482,
     "end_time": "2021-01-07T18:54:56.809102",
     "exception": false,
     "start_time": "2021-01-07T18:54:56.69562",
     "status": "completed"
    },
    "tags": []
   },
   "source": [
    "### Extra-trees classifier"
   ]
  },
  {
   "cell_type": "code",
   "execution_count": 70,
   "metadata": {},
   "outputs": [
    {
     "data": {
      "text/plain": [
       "array([0, 0, 0, 1, 0])"
      ]
     },
     "execution_count": 70,
     "metadata": {},
     "output_type": "execute_result"
    }
   ],
   "source": [
    "#ET instance witn 100 trees\n",
    "et = ExtraTreesClassifier(n_estimators=100)\n",
    "et= et.fit(X_train,y_train) # fitting et classifier\n",
    "\n",
    "# Obtaining the predictions for et on test data.\n",
    "pred_et = et.predict(X_test)\n",
    "pred_et[:5] # predictions of survival for X_test using extraTrees "
   ]
  },
  {
   "cell_type": "code",
   "execution_count": 71,
   "metadata": {},
   "outputs": [
    {
     "name": "stdout",
     "output_type": "stream",
     "text": [
      "Confusion Matrix for ET:\n",
      "[[246  31]\n",
      " [ 17 124]]\n",
      "Classification Report for ET:\n",
      "              precision    recall  f1-score   support\n",
      "\n",
      "     class 0       0.94      0.89      0.91       277\n",
      "     class 1       0.80      0.88      0.84       141\n",
      "\n",
      "    accuracy                           0.89       418\n",
      "   macro avg       0.87      0.88      0.87       418\n",
      "weighted avg       0.89      0.89      0.89       418\n",
      "\n"
     ]
    }
   ],
   "source": [
    "# ET confusion matrix and classification reports.\n",
    "\n",
    "y_true = y_test # get y_test which is the true labels on the test set.\n",
    "\n",
    "y_pred= pred_et # get predicted labels on the test set.  \n",
    "print(f\"Confusion Matrix for ET:\\n{confusion_matrix(y_true,y_pred)}\")\n",
    "\n",
    "# Classification Report ET\n",
    "\n",
    "target_names = ['class 0', 'class 1']\n",
    "print(f\"Classification Report for ET:\\n{classification_report(y_true, y_pred, target_names=target_names)}\")"
   ]
  },
  {
   "cell_type": "markdown",
   "metadata": {},
   "source": [
    "### Grid Search for Extra Tree"
   ]
  },
  {
   "cell_type": "code",
   "execution_count": 72,
   "metadata": {},
   "outputs": [
    {
     "name": "stdout",
     "output_type": "stream",
     "text": [
      "Fitting 5 folds for each of 6 candidates, totalling 30 fits\n"
     ]
    },
    {
     "name": "stderr",
     "output_type": "stream",
     "text": [
      "[Parallel(n_jobs=1)]: Using backend SequentialBackend with 1 concurrent workers.\n",
      "[Parallel(n_jobs=1)]: Done  30 out of  30 | elapsed:    3.0s finished\n",
      "/Users/fahdahalalyan/opt/anaconda3/lib/python3.8/site-packages/sklearn/model_selection/_search.py:847: FutureWarning: The parameter 'iid' is deprecated in 0.22 and will be removed in 0.24.\n",
      "  warnings.warn(\n"
     ]
    },
    {
     "data": {
      "text/plain": [
       "{'cv': 5,\n",
       " 'error_score': nan,\n",
       " 'estimator__bootstrap': True,\n",
       " 'estimator__ccp_alpha': 0.0,\n",
       " 'estimator__class_weight': None,\n",
       " 'estimator__criterion': 'gini',\n",
       " 'estimator__max_depth': None,\n",
       " 'estimator__max_features': 'auto',\n",
       " 'estimator__max_leaf_nodes': None,\n",
       " 'estimator__max_samples': None,\n",
       " 'estimator__min_impurity_decrease': 0.0,\n",
       " 'estimator__min_impurity_split': None,\n",
       " 'estimator__min_samples_leaf': 1,\n",
       " 'estimator__min_samples_split': 2,\n",
       " 'estimator__min_weight_fraction_leaf': 0.0,\n",
       " 'estimator__n_estimators': 100,\n",
       " 'estimator__n_jobs': None,\n",
       " 'estimator__oob_score': False,\n",
       " 'estimator__random_state': None,\n",
       " 'estimator__verbose': 0,\n",
       " 'estimator__warm_start': False,\n",
       " 'estimator': ExtraTreesClassifier(bootstrap=True),\n",
       " 'iid': 'warn',\n",
       " 'n_jobs': None,\n",
       " 'param_grid': {'max_depth': [1, 2, 3, 4, 5, 8]},\n",
       " 'pre_dispatch': '2*n_jobs',\n",
       " 'refit': True,\n",
       " 'return_train_score': 'warn',\n",
       " 'scoring': None,\n",
       " 'verbose': 1}"
      ]
     },
     "execution_count": 72,
     "metadata": {},
     "output_type": "execute_result"
    }
   ],
   "source": [
    "# our grid\n",
    "ex_g = ExtraTreesClassifier(bootstrap=True, class_weight=None, criterion='gini',\n",
    "            max_depth=None, max_features='auto', max_leaf_nodes=None,\n",
    "            min_impurity_decrease=0.0, min_impurity_split=None,\n",
    "            min_samples_leaf=1, min_samples_split=2,\n",
    "            min_weight_fraction_leaf=0.0, n_estimators=100, n_jobs=None,\n",
    "            oob_score=False, random_state=None, verbose=0,\n",
    "            warm_start=False) \n",
    "\n",
    "ex_gs = GridSearchCV(estimator= ex_g, cv=5, n_jobs=None,\n",
    "                  iid='warn',\n",
    "                  param_grid={'max_depth': [1, 2, 3, 4, 5, 8]},\n",
    "                  pre_dispatch='2*n_jobs', refit=True, return_train_score='warn',\n",
    "                  scoring=None, verbose=1)  \n",
    "\n",
    "# fitting grid search with extra tree\n",
    "ex_gs.fit(X_train, y_train) \n",
    "ex_gs.get_params()"
   ]
  },
  {
   "cell_type": "code",
   "execution_count": 73,
   "metadata": {},
   "outputs": [
    {
     "data": {
      "text/plain": [
       "0.9521531100478469"
      ]
     },
     "execution_count": 73,
     "metadata": {},
     "output_type": "execute_result"
    }
   ],
   "source": [
    "ex_gs.score(X_test, y_test) # test score"
   ]
  },
  {
   "cell_type": "code",
   "execution_count": 74,
   "metadata": {},
   "outputs": [
    {
     "data": {
      "text/plain": [
       "0.8754208754208754"
      ]
     },
     "execution_count": 74,
     "metadata": {},
     "output_type": "execute_result"
    }
   ],
   "source": [
    "ex_gs.score(X_train, y_train) # train score"
   ]
  },
  {
   "cell_type": "code",
   "execution_count": 75,
   "metadata": {},
   "outputs": [
    {
     "data": {
      "text/plain": [
       "{'max_depth': 8}"
      ]
     },
     "execution_count": 75,
     "metadata": {},
     "output_type": "execute_result"
    }
   ],
   "source": [
    "ex_gs.best_params_ "
   ]
  },
  {
   "cell_type": "code",
   "execution_count": 76,
   "metadata": {},
   "outputs": [
    {
     "data": {
      "text/plain": [
       "{'cv': 5,\n",
       " 'error_score': nan,\n",
       " 'estimator__bootstrap': True,\n",
       " 'estimator__ccp_alpha': 0.0,\n",
       " 'estimator__class_weight': None,\n",
       " 'estimator__criterion': 'gini',\n",
       " 'estimator__max_depth': {'max_depth': 8},\n",
       " 'estimator__max_features': 'auto',\n",
       " 'estimator__max_leaf_nodes': None,\n",
       " 'estimator__max_samples': None,\n",
       " 'estimator__min_impurity_decrease': 0.0,\n",
       " 'estimator__min_impurity_split': None,\n",
       " 'estimator__min_samples_leaf': 1,\n",
       " 'estimator__min_samples_split': 2,\n",
       " 'estimator__min_weight_fraction_leaf': 0.0,\n",
       " 'estimator__n_estimators': 100,\n",
       " 'estimator__n_jobs': None,\n",
       " 'estimator__oob_score': False,\n",
       " 'estimator__random_state': None,\n",
       " 'estimator__verbose': 0,\n",
       " 'estimator__warm_start': False,\n",
       " 'estimator': ExtraTreesClassifier(bootstrap=True, max_depth={'max_depth': 8}),\n",
       " 'iid': 'deprecated',\n",
       " 'n_jobs': None,\n",
       " 'param_grid': {'max_depth': [1, 2, 3, 4, 5, 8]},\n",
       " 'pre_dispatch': '2*n_jobs',\n",
       " 'refit': True,\n",
       " 'return_train_score': False,\n",
       " 'scoring': None,\n",
       " 'verbose': 1}"
      ]
     },
     "execution_count": 76,
     "metadata": {},
     "output_type": "execute_result"
    }
   ],
   "source": [
    "ex_bset= ExtraTreesClassifier(bootstrap=True, class_weight=None, criterion='gini',\n",
    "            max_depth= ex_gs.best_params_, max_features='auto', max_leaf_nodes=None,\n",
    "            min_impurity_decrease=0.0, min_impurity_split=None,\n",
    "            min_samples_leaf=1, min_samples_split=2,\n",
    "            min_weight_fraction_leaf=0.0, n_estimators=100, n_jobs=None,\n",
    "            oob_score=False, random_state=None, verbose=0,\n",
    "            warm_start=False)\n",
    "\n",
    "gs_ex_bset = GridSearchCV(estimator= ex_bset,\n",
    "                          cv=5, param_grid={'max_depth': [1, 2, 3, 4, 5, 8]}, n_jobs=None,scoring=None, verbose=1) \n",
    "gs_ex_bset.get_params()"
   ]
  },
  {
   "cell_type": "code",
   "execution_count": 77,
   "metadata": {},
   "outputs": [
    {
     "name": "stderr",
     "output_type": "stream",
     "text": [
      "[Parallel(n_jobs=1)]: Using backend SequentialBackend with 1 concurrent workers.\n"
     ]
    },
    {
     "name": "stdout",
     "output_type": "stream",
     "text": [
      "Fitting 5 folds for each of 6 candidates, totalling 30 fits\n"
     ]
    },
    {
     "name": "stderr",
     "output_type": "stream",
     "text": [
      "[Parallel(n_jobs=1)]: Done  30 out of  30 | elapsed:    2.7s finished\n"
     ]
    },
    {
     "data": {
      "text/plain": [
       "array([0, 0, 0, 0, 1])"
      ]
     },
     "execution_count": 77,
     "metadata": {},
     "output_type": "execute_result"
    }
   ],
   "source": [
    "gs_ex_bset.fit(X_train, y_train)\n",
    "\n",
    "pred_ex_bset= gs_ex_bset.predict(X_test)\n",
    "pred_ex_bset[:5] # displaying sample"
   ]
  },
  {
   "cell_type": "code",
   "execution_count": 78,
   "metadata": {},
   "outputs": [],
   "source": [
    "pred = gs_ex_bset.predict(X_test)\n",
    "\n",
    "g_s_or['Survived'] = pred\n",
    "\n",
    "# Saving the prediction into a file that matches the Kaggle submission requirements\n",
    "g_s_or[['PassengerId', 'Survived']].to_csv('../output data/submission_et_gs_best_model.csv',index=False)"
   ]
  },
  {
   "cell_type": "markdown",
   "metadata": {},
   "source": [
    " ### submitting above prediction to Kaggle resulted in score = 0.76555"
   ]
  },
  {
   "cell_type": "markdown",
   "metadata": {},
   "source": [
    "# Decision Tree Classification"
   ]
  },
  {
   "cell_type": "code",
   "execution_count": 79,
   "metadata": {},
   "outputs": [
    {
     "name": "stderr",
     "output_type": "stream",
     "text": [
      "[Parallel(n_jobs=1)]: Using backend SequentialBackend with 1 concurrent workers.\n"
     ]
    },
    {
     "name": "stdout",
     "output_type": "stream",
     "text": [
      "Fitting 5 folds for each of 8 candidates, totalling 40 fits\n"
     ]
    },
    {
     "name": "stderr",
     "output_type": "stream",
     "text": [
      "[Parallel(n_jobs=1)]: Done  40 out of  40 | elapsed:    0.2s finished\n"
     ]
    },
    {
     "data": {
      "text/plain": [
       "0.8092084614901764"
      ]
     },
     "execution_count": 79,
     "metadata": {},
     "output_type": "execute_result"
    }
   ],
   "source": [
    "# Grid search with decision tree \n",
    "parm_grid2 = {'max_depth':[1,2,3,4,5,6,7,8]}\n",
    "grid2 = GridSearchCV(DecisionTreeClassifier(), parm_grid2, cv=5, verbose = 1)\n",
    "grid2.fit(X_train, y_train)\n",
    "# kaggle submission\n",
    "pred = grid2.predict(X_test) \n",
    "g_s_or['Survived'] = pred\n",
    "g_s_or[['PassengerId', 'Survived']].to_csv('../output data/submission_gs_dt.csv',index=False)\n",
    "\n",
    "grid2.best_score_    "
   ]
  },
  {
   "cell_type": "markdown",
   "metadata": {},
   "source": [
    " ### submitting above prediction to Kaggle resulted in score = 0.74880 "
   ]
  },
  {
   "cell_type": "markdown",
   "metadata": {},
   "source": [
    "#### Tuning the bagging classifiers with grid search"
   ]
  },
  {
   "cell_type": "code",
   "execution_count": 80,
   "metadata": {},
   "outputs": [
    {
     "name": "stdout",
     "output_type": "stream",
     "text": [
      "Fitting 4 folds for each of 96 candidates, totalling 384 fits\n"
     ]
    },
    {
     "name": "stderr",
     "output_type": "stream",
     "text": [
      "[Parallel(n_jobs=-1)]: Using backend LokyBackend with 8 concurrent workers.\n",
      "[Parallel(n_jobs=-1)]: Done  34 tasks      | elapsed:    2.1s\n",
      "[Parallel(n_jobs=-1)]: Done 184 tasks      | elapsed:    8.9s\n",
      "[Parallel(n_jobs=-1)]: Done 384 out of 384 | elapsed:   18.4s finished\n"
     ]
    }
   ],
   "source": [
    "# bagging classifer with grid search\n",
    "param = { 'max_features': [0.6,0.8, 1],\n",
    "        'n_estimators': [50, 200], \n",
    "         'base_estimator__max_depth': [ 5, 20],\n",
    "         'max_samples':[1,0.5,0.7,0.8],\n",
    "         'bootstrap':[True,False]\n",
    "       \n",
    "        }\n",
    "\n",
    "\n",
    "model = BaggingClassifier(base_estimator=DecisionTreeClassifier())\n",
    "model_gs = GridSearchCV(model,param, cv=4, verbose=1, n_jobs=-1 )\n",
    "model_gs.fit(X_train, y_train)\n",
    "\n",
    "\n",
    "model_gs.best_score_\n",
    "\n",
    "model_gs.score(X_train, y_train)\n",
    "\n",
    "# Kaggle submission. # PassengerId\n",
    "pred = model_gs.predict(X_test)\n",
    "g_s_or['Survived'] = pred\n",
    "# Save the prediction into a file that matches the Kaggle submission requirements\n",
    "g_s_or[['PassengerId', 'Survived']].to_csv('../output data/submission_dt_gs_bagging.csv',index=False)"
   ]
  },
  {
   "cell_type": "markdown",
   "metadata": {},
   "source": [
    " ### submitting above prediction to Kaggle resulted in score = 0.77272  "
   ]
  },
  {
   "cell_type": "markdown",
   "metadata": {},
   "source": [
    "# KNN"
   ]
  },
  {
   "cell_type": "code",
   "execution_count": 81,
   "metadata": {},
   "outputs": [],
   "source": [
    "# selecting X features Age and p_class\n",
    "X = train[['age', 'p_class']]\n",
    "y = train.survived # target\n",
    "\n",
    "ss = StandardScaler() # instantiating scaler\n",
    "Xs_train = ss.fit_transform(X) # fitting scaler\n",
    "Xs_test = ss.transform(X_test[['age', 'p_class']]) # fitting scaler\n",
    "\n",
    "knn = KNeighborsClassifier(n_neighbors=3)\n",
    "knn.fit(Xs_train,y)\n",
    "cross_val_score(knn, Xs_train, y, cv=5).mean()\n",
    "\n",
    "knn.predict(Xs_test)\n",
    "knn.score(Xs_train, y)\n",
    "\n",
    "# kaggle submission\n",
    "pred = knn.predict(Xs_test)\n",
    "g_s_or['Survived'] = pred\n",
    "g_s_or[['PassengerId', 'Survived']].to_csv('../output data/submission_KNN_st.csv',index=False)"
   ]
  },
  {
   "cell_type": "markdown",
   "metadata": {},
   "source": [
    " ### submitting above prediction to Kaggle resulted in score = 0.50956  "
   ]
  },
  {
   "cell_type": "markdown",
   "metadata": {},
   "source": [
    "# Logistic Regression"
   ]
  },
  {
   "cell_type": "code",
   "execution_count": 82,
   "metadata": {},
   "outputs": [],
   "source": [
    "# Logistic Regression with all features + relative , ie. parch + sib_sp\n",
    "# making new feature ['relative'] that takes the number of the relativs\n",
    "\n",
    "X_train_lr= X_train.copy() \n",
    "X_train_lr['reltv'] = X_train_lr['sib_sp'] + X_train_lr['parch'] \n",
    "X_train_lr = X_train_lr[['p_class','sex_male','age','embarked_C','embarked_Q','embarked_S','reltv']]\n",
    "X_train_ss= ss.fit_transform(X_train_lr) # standardization\n",
    "\n",
    "\n",
    "test_lr= X_test.copy()\n",
    "test_lr['reltv'] = test_lr['sib_sp'] + test_lr['parch']\n",
    "test_lr = test_lr[['p_class','sex_male','age','embarked_C','embarked_Q','embarked_S','reltv']]\n",
    "test_lr_ss= ss.transform(test_lr)\n",
    "\n",
    "\n",
    "log_modal = LogisticRegression().fit(X_train_ss,y_train)\n",
    "# cross_val_score(log_modal,X_train_lr,y_train,cv= 5).mean()\n",
    "\n",
    "pred = log_modal.predict(test_lr_ss)\n",
    "g_s_or['Survived'] = pred\n",
    "g_s_or[['PassengerId', 'Survived']].to_csv('../output data/submission_lg_st_reltv.csv',index=False)\n"
   ]
  },
  {
   "cell_type": "markdown",
   "metadata": {},
   "source": [
    " ### submitting above prediction to Kaggle resulted in score = 0.76315  "
   ]
  },
  {
   "cell_type": "code",
   "execution_count": 83,
   "metadata": {},
   "outputs": [],
   "source": [
    "# Logistic Regression with relative , ie. parch + sib_sp\n",
    "\n",
    "X_train_lr= X_train.copy()\n",
    "X_train_lr['reltv'] = X_train_lr['sib_sp'] + X_train_lr['parch']\n",
    "\n",
    "X_train_ss= ss.fit_transform(X_train_lr)\n",
    "\n",
    "\n",
    "test_lr= X_test.copy()\n",
    "test_lr['reltv'] = test_lr['sib_sp'] + test_lr['parch']\n",
    "\n",
    "test_lr_ss= ss.transform(test_lr)\n",
    "\n",
    "\n",
    "log_modal = LogisticRegression().fit(X_train_ss,y_train)\n",
    "# cross_val_score(log_modal,X_train_lr,y_train,cv= 5).mean()\n",
    "\n",
    "pred = log_modal.predict(test_lr_ss)\n",
    "g_s_or['Survived'] = pred\n",
    "g_s_or[['PassengerId', 'Survived']].to_csv('../output data/submission_lg_st_reltv_only.csv',index=False)"
   ]
  },
  {
   "cell_type": "markdown",
   "metadata": {},
   "source": [
    " ### submitting above prediction to Kaggle resulted in score = 0.76315 , same as above score"
   ]
  },
  {
   "cell_type": "markdown",
   "metadata": {},
   "source": [
    "# SVM"
   ]
  },
  {
   "cell_type": "code",
   "execution_count": 84,
   "metadata": {},
   "outputs": [
    {
     "data": {
      "text/plain": [
       "0.7878601468834348"
      ]
     },
     "execution_count": 84,
     "metadata": {},
     "output_type": "execute_result"
    }
   ],
   "source": [
    "# Support vector machine model\n",
    "ss = StandardScaler() # initiating standard scaler\n",
    "Xs_train = ss.fit_transform(X_train)\n",
    "Xs_test = ss.transform(X_test)\n",
    "\n",
    "svm_l = svm.SVC(kernel='linear').fit(Xs_train, y_train)\n",
    "svm_l.fit(Xs_train, y_train)\n",
    "cross_val_score(svm_l, Xs_train, y_train, cv=5).mean()"
   ]
  },
  {
   "cell_type": "code",
   "execution_count": 85,
   "metadata": {},
   "outputs": [],
   "source": [
    "# kaggle submission\n",
    "pred = svm_l.predict(X_test)\n",
    "g_s_or['Survived'] = pred\n",
    "g_s_or[['PassengerId', 'Survived']].to_csv('../output data/submission_SVM_st.csv',index=False)"
   ]
  },
  {
   "cell_type": "markdown",
   "metadata": {},
   "source": [
    " ### submitting above prediction to Kaggle resulted in score = 0.76555 "
   ]
  },
  {
   "cell_type": "markdown",
   "metadata": {},
   "source": [
    "## Gradient Boosting Classifier"
   ]
  },
  {
   "cell_type": "code",
   "execution_count": 86,
   "metadata": {},
   "outputs": [
    {
     "data": {
      "text/plain": [
       "0.8552188552188552"
      ]
     },
     "execution_count": 86,
     "metadata": {},
     "output_type": "execute_result"
    }
   ],
   "source": [
    "# boosting classifier model\n",
    "clf = GradientBoostingClassifier(n_estimators=100, learning_rate=1.0, \n",
    "                                 max_depth=1, random_state=0).fit(X_train, y_train)\n",
    "\n",
    "pred = clf.predict(X_test)\n",
    "clf.score(X_train, y_train)"
   ]
  },
  {
   "cell_type": "code",
   "execution_count": 87,
   "metadata": {},
   "outputs": [
    {
     "data": {
      "text/plain": [
       "{'ccp_alpha': 0.0,\n",
       " 'criterion': 'friedman_mse',\n",
       " 'init': None,\n",
       " 'learning_rate': 1.0,\n",
       " 'loss': 'deviance',\n",
       " 'max_depth': 1,\n",
       " 'max_features': None,\n",
       " 'max_leaf_nodes': None,\n",
       " 'min_impurity_decrease': 0.0,\n",
       " 'min_impurity_split': None,\n",
       " 'min_samples_leaf': 1,\n",
       " 'min_samples_split': 2,\n",
       " 'min_weight_fraction_leaf': 0.0,\n",
       " 'n_estimators': 100,\n",
       " 'n_iter_no_change': None,\n",
       " 'presort': 'deprecated',\n",
       " 'random_state': 0,\n",
       " 'subsample': 1.0,\n",
       " 'tol': 0.0001,\n",
       " 'validation_fraction': 0.1,\n",
       " 'verbose': 0,\n",
       " 'warm_start': False}"
      ]
     },
     "execution_count": 87,
     "metadata": {},
     "output_type": "execute_result"
    }
   ],
   "source": [
    "clf.get_params()"
   ]
  },
  {
   "cell_type": "code",
   "execution_count": 88,
   "metadata": {},
   "outputs": [],
   "source": [
    "# kaggle submission\n",
    "g_s_or['Survived']= pred\n",
    "g_s_or[['PassengerId', 'Survived']].to_csv('../output data/submission_GradientBoosting.csv',index=False)"
   ]
  },
  {
   "cell_type": "markdown",
   "metadata": {},
   "source": [
    " ### submitting above prediction to Kaggle resulted in score = 0.76315"
   ]
  },
  {
   "cell_type": "markdown",
   "metadata": {},
   "source": [
    "### Other ways to improve the accuracy of modeling (removing cabin)"
   ]
  },
  {
   "cell_type": "code",
   "execution_count": 89,
   "metadata": {},
   "outputs": [
    {
     "data": {
      "text/html": [
       "<div>\n",
       "<style scoped>\n",
       "    .dataframe tbody tr th:only-of-type {\n",
       "        vertical-align: middle;\n",
       "    }\n",
       "\n",
       "    .dataframe tbody tr th {\n",
       "        vertical-align: top;\n",
       "    }\n",
       "\n",
       "    .dataframe thead th {\n",
       "        text-align: right;\n",
       "    }\n",
       "</style>\n",
       "<table border=\"1\" class=\"dataframe\">\n",
       "  <thead>\n",
       "    <tr style=\"text-align: right;\">\n",
       "      <th></th>\n",
       "      <th>p_class</th>\n",
       "      <th>age</th>\n",
       "      <th>sib_sp</th>\n",
       "      <th>parch</th>\n",
       "      <th>fare</th>\n",
       "      <th>embarked_C</th>\n",
       "      <th>embarked_Q</th>\n",
       "      <th>embarked_S</th>\n",
       "      <th>sex_female</th>\n",
       "      <th>sex_male</th>\n",
       "    </tr>\n",
       "  </thead>\n",
       "  <tbody>\n",
       "    <tr>\n",
       "      <th>0</th>\n",
       "      <td>3</td>\n",
       "      <td>22.00000</td>\n",
       "      <td>1</td>\n",
       "      <td>0</td>\n",
       "      <td>7.2500</td>\n",
       "      <td>0</td>\n",
       "      <td>0</td>\n",
       "      <td>1</td>\n",
       "      <td>0</td>\n",
       "      <td>1</td>\n",
       "    </tr>\n",
       "    <tr>\n",
       "      <th>1</th>\n",
       "      <td>1</td>\n",
       "      <td>38.00000</td>\n",
       "      <td>1</td>\n",
       "      <td>0</td>\n",
       "      <td>71.2833</td>\n",
       "      <td>1</td>\n",
       "      <td>0</td>\n",
       "      <td>0</td>\n",
       "      <td>1</td>\n",
       "      <td>0</td>\n",
       "    </tr>\n",
       "    <tr>\n",
       "      <th>2</th>\n",
       "      <td>3</td>\n",
       "      <td>26.00000</td>\n",
       "      <td>0</td>\n",
       "      <td>0</td>\n",
       "      <td>7.9250</td>\n",
       "      <td>0</td>\n",
       "      <td>0</td>\n",
       "      <td>1</td>\n",
       "      <td>1</td>\n",
       "      <td>0</td>\n",
       "    </tr>\n",
       "    <tr>\n",
       "      <th>3</th>\n",
       "      <td>1</td>\n",
       "      <td>35.00000</td>\n",
       "      <td>1</td>\n",
       "      <td>0</td>\n",
       "      <td>53.1000</td>\n",
       "      <td>0</td>\n",
       "      <td>0</td>\n",
       "      <td>1</td>\n",
       "      <td>1</td>\n",
       "      <td>0</td>\n",
       "    </tr>\n",
       "    <tr>\n",
       "      <th>4</th>\n",
       "      <td>3</td>\n",
       "      <td>35.00000</td>\n",
       "      <td>0</td>\n",
       "      <td>0</td>\n",
       "      <td>8.0500</td>\n",
       "      <td>0</td>\n",
       "      <td>0</td>\n",
       "      <td>1</td>\n",
       "      <td>0</td>\n",
       "      <td>1</td>\n",
       "    </tr>\n",
       "    <tr>\n",
       "      <th>...</th>\n",
       "      <td>...</td>\n",
       "      <td>...</td>\n",
       "      <td>...</td>\n",
       "      <td>...</td>\n",
       "      <td>...</td>\n",
       "      <td>...</td>\n",
       "      <td>...</td>\n",
       "      <td>...</td>\n",
       "      <td>...</td>\n",
       "      <td>...</td>\n",
       "    </tr>\n",
       "    <tr>\n",
       "      <th>886</th>\n",
       "      <td>2</td>\n",
       "      <td>27.00000</td>\n",
       "      <td>0</td>\n",
       "      <td>0</td>\n",
       "      <td>13.0000</td>\n",
       "      <td>0</td>\n",
       "      <td>0</td>\n",
       "      <td>1</td>\n",
       "      <td>0</td>\n",
       "      <td>1</td>\n",
       "    </tr>\n",
       "    <tr>\n",
       "      <th>887</th>\n",
       "      <td>1</td>\n",
       "      <td>19.00000</td>\n",
       "      <td>0</td>\n",
       "      <td>0</td>\n",
       "      <td>30.0000</td>\n",
       "      <td>0</td>\n",
       "      <td>0</td>\n",
       "      <td>1</td>\n",
       "      <td>1</td>\n",
       "      <td>0</td>\n",
       "    </tr>\n",
       "    <tr>\n",
       "      <th>888</th>\n",
       "      <td>3</td>\n",
       "      <td>25.14062</td>\n",
       "      <td>1</td>\n",
       "      <td>2</td>\n",
       "      <td>23.4500</td>\n",
       "      <td>0</td>\n",
       "      <td>0</td>\n",
       "      <td>1</td>\n",
       "      <td>1</td>\n",
       "      <td>0</td>\n",
       "    </tr>\n",
       "    <tr>\n",
       "      <th>889</th>\n",
       "      <td>1</td>\n",
       "      <td>26.00000</td>\n",
       "      <td>0</td>\n",
       "      <td>0</td>\n",
       "      <td>30.0000</td>\n",
       "      <td>1</td>\n",
       "      <td>0</td>\n",
       "      <td>0</td>\n",
       "      <td>0</td>\n",
       "      <td>1</td>\n",
       "    </tr>\n",
       "    <tr>\n",
       "      <th>890</th>\n",
       "      <td>3</td>\n",
       "      <td>32.00000</td>\n",
       "      <td>0</td>\n",
       "      <td>0</td>\n",
       "      <td>7.7500</td>\n",
       "      <td>0</td>\n",
       "      <td>1</td>\n",
       "      <td>0</td>\n",
       "      <td>0</td>\n",
       "      <td>1</td>\n",
       "    </tr>\n",
       "  </tbody>\n",
       "</table>\n",
       "<p>891 rows × 10 columns</p>\n",
       "</div>"
      ],
      "text/plain": [
       "     p_class       age  sib_sp  parch     fare  embarked_C  embarked_Q  \\\n",
       "0          3  22.00000       1      0   7.2500           0           0   \n",
       "1          1  38.00000       1      0  71.2833           1           0   \n",
       "2          3  26.00000       0      0   7.9250           0           0   \n",
       "3          1  35.00000       1      0  53.1000           0           0   \n",
       "4          3  35.00000       0      0   8.0500           0           0   \n",
       "..       ...       ...     ...    ...      ...         ...         ...   \n",
       "886        2  27.00000       0      0  13.0000           0           0   \n",
       "887        1  19.00000       0      0  30.0000           0           0   \n",
       "888        3  25.14062       1      2  23.4500           0           0   \n",
       "889        1  26.00000       0      0  30.0000           1           0   \n",
       "890        3  32.00000       0      0   7.7500           0           1   \n",
       "\n",
       "     embarked_S  sex_female  sex_male  \n",
       "0             1           0         1  \n",
       "1             0           1         0  \n",
       "2             1           1         0  \n",
       "3             1           1         0  \n",
       "4             1           0         1  \n",
       "..          ...         ...       ...  \n",
       "886           1           0         1  \n",
       "887           1           1         0  \n",
       "888           1           1         0  \n",
       "889           0           0         1  \n",
       "890           0           0         1  \n",
       "\n",
       "[891 rows x 10 columns]"
      ]
     },
     "execution_count": 89,
     "metadata": {},
     "output_type": "execute_result"
    }
   ],
   "source": [
    "# here, we removed the cabin column since it originally contained 687 nulls to investigate whether\n",
    "# removing the column will improve model performance \n",
    "\n",
    "# deleting cabin column\n",
    "temp1= train.drop(['id', 'survived','cabin'], axis=1).select_dtypes(exclude=['object'])\n",
    "temp1 # checking"
   ]
  },
  {
   "cell_type": "markdown",
   "metadata": {},
   "source": [
    "## logistic regression without cabin"
   ]
  },
  {
   "cell_type": "code",
   "execution_count": 90,
   "metadata": {
    "scrolled": true
   },
   "outputs": [
    {
     "name": "stderr",
     "output_type": "stream",
     "text": [
      "/Users/fahdahalalyan/opt/anaconda3/lib/python3.8/site-packages/sklearn/linear_model/_logistic.py:762: ConvergenceWarning: lbfgs failed to converge (status=1):\n",
      "STOP: TOTAL NO. of ITERATIONS REACHED LIMIT.\n",
      "\n",
      "Increase the number of iterations (max_iter) or scale the data as shown in:\n",
      "    https://scikit-learn.org/stable/modules/preprocessing.html\n",
      "Please also refer to the documentation for alternative solver options:\n",
      "    https://scikit-learn.org/stable/modules/linear_model.html#logistic-regression\n",
      "  n_iter_i = _check_optimize_result(\n"
     ]
    },
    {
     "data": {
      "text/plain": [
       "0.8024691358024691"
      ]
     },
     "execution_count": 90,
     "metadata": {},
     "output_type": "execute_result"
    }
   ],
   "source": [
    "logistic_regression = LogisticRegression()\n",
    "logistic_regression.fit(temp1, y_train)\n",
    "y_pred = logistic_regression.predict(X_test.drop(['cabin'], axis=1).select_dtypes(exclude=['object']))\n",
    "logistic_regression.score(temp1, y_train)"
   ]
  },
  {
   "cell_type": "code",
   "execution_count": 91,
   "metadata": {},
   "outputs": [],
   "source": [
    "# kaggle submission\n",
    "g_s_or['Survived']= pred\n",
    "g_s_or[['PassengerId', 'Survived']].to_csv('../output data/submission_LogisticRegression_without_cabin.csv',index=False)"
   ]
  },
  {
   "cell_type": "markdown",
   "metadata": {},
   "source": [
    " ### submitting above prediction to Kaggle resulted in score = 0.76315"
   ]
  },
  {
   "cell_type": "markdown",
   "metadata": {},
   "source": [
    "## KNN without cabin"
   ]
  },
  {
   "cell_type": "code",
   "execution_count": 92,
   "metadata": {},
   "outputs": [
    {
     "data": {
      "text/plain": [
       "0.8709315375982043"
      ]
     },
     "execution_count": 92,
     "metadata": {},
     "output_type": "execute_result"
    }
   ],
   "source": [
    "ss = StandardScaler() # instantiating scaler\n",
    "Xs_train = ss.fit_transform(temp1) # fitting scaler\n",
    "Xs_test = ss.transform(X_test.drop(['cabin'], axis=1).select_dtypes(exclude=['object'])) # fitting scaler\n",
    "\n",
    "knn = KNeighborsClassifier(n_neighbors=3)\n",
    "knn.fit(Xs_train, y)\n",
    "y_pred = knn.predict(Xs_test)\n",
    "knn.score(Xs_train,y) "
   ]
  },
  {
   "cell_type": "code",
   "execution_count": 93,
   "metadata": {},
   "outputs": [],
   "source": [
    "# kaggle submission\n",
    "g_s_or['Survived']= pred\n",
    "g_s_or[['PassengerId', 'Survived']].to_csv('../output data/submission_knn_without_cabin.csv',index=False)"
   ]
  },
  {
   "cell_type": "markdown",
   "metadata": {},
   "source": [
    " ### submitting above prediction to Kaggle resulted in score = 0.76315"
   ]
  },
  {
   "cell_type": "markdown",
   "metadata": {},
   "source": [
    "## Random Forest without cabin\n"
   ]
  },
  {
   "cell_type": "code",
   "execution_count": 94,
   "metadata": {},
   "outputs": [
    {
     "data": {
      "text/plain": [
       "0.9820426487093153"
      ]
     },
     "execution_count": 94,
     "metadata": {},
     "output_type": "execute_result"
    }
   ],
   "source": [
    "# Random forest classifier without cabin\n",
    "random_forest = RandomForestClassifier(n_estimators=100)\n",
    "random_forest.fit(temp1, y_train)\n",
    "y_pred = random_forest.predict(X_test.drop(['cabin'], axis=1).select_dtypes(exclude=['object']))\n",
    "random_forest.score(temp1, y_train)"
   ]
  },
  {
   "cell_type": "code",
   "execution_count": 95,
   "metadata": {},
   "outputs": [],
   "source": [
    "g_s_or['Survived']= y_pred\n",
    "# Save the prediction into a file that matches the Kaggle submission requirements\n",
    "g_s_or[['PassengerId', 'Survived']].to_csv('../output data/submission_rf_remove_cabin.csv',index=False)"
   ]
  },
  {
   "cell_type": "markdown",
   "metadata": {},
   "source": [
    " ### submitting above prediction to Kaggle resulted in score = 0.76315"
   ]
  },
  {
   "cell_type": "markdown",
   "metadata": {},
   "source": [
    "## Without Outliers"
   ]
  },
  {
   "cell_type": "code",
   "execution_count": 96,
   "metadata": {
    "scrolled": false
   },
   "outputs": [
    {
     "data": {
      "text/plain": [
       "({'id': -444.0,\n",
       "  'survived': -1.5,\n",
       "  'p_class': 0.5,\n",
       "  'age': -0.5,\n",
       "  'sib_sp': -1.5,\n",
       "  'parch': 0.0,\n",
       "  'fare': -26.724,\n",
       "  'embarked_C': 0.0,\n",
       "  'embarked_Q': 0.0,\n",
       "  'embarked_S': -1.5,\n",
       "  'sex_female': -1.5,\n",
       "  'sex_male': -1.5},\n",
       " {'id': 1336.0,\n",
       "  'survived': 2.5,\n",
       "  'p_class': 4.5,\n",
       "  'age': 59.5,\n",
       "  'sib_sp': 2.5,\n",
       "  'parch': 0.0,\n",
       "  'fare': 65.6344,\n",
       "  'embarked_C': 0.0,\n",
       "  'embarked_Q': 0.0,\n",
       "  'embarked_S': 2.5,\n",
       "  'sex_female': 2.5,\n",
       "  'sex_male': 2.5})"
      ]
     },
     "execution_count": 96,
     "metadata": {},
     "output_type": "execute_result"
    }
   ],
   "source": [
    "# calculate interquartile range:\n",
    "num_colu= train.select_dtypes(include=[np.number])\n",
    "lower_range={} # create dict to save lower_range for each column\n",
    "upper_range={} # create dict to save lower_range for each column\n",
    "for i in num_colu: # for each column.\n",
    "    # Calculate Q1(first Quarter- 25) and Q3(third Quartile- 75)\n",
    "    q75, q25 = np.percentile(train[i], [75 ,25]) \n",
    "    iqr = q75 - q25 # Calculate IQR = (Q3 - Q1).\n",
    "    lower_range[i] = q25 -(1.5 * iqr) # lower range for a column\n",
    "    upper_range[i] = q75 + (1.5 * iqr) # upper range for a column\n",
    "\n",
    "lower_range,upper_range # can be used to find the outliers as shown in next line.\n",
    "\n"
   ]
  },
  {
   "cell_type": "code",
   "execution_count": 97,
   "metadata": {
    "scrolled": true
   },
   "outputs": [
    {
     "name": "stdout",
     "output_type": "stream",
     "text": [
      "The total number of outliers in parch equals to 213\n",
      "The total number of outliers in fare equals to 116\n",
      "The total number of outliers in age equals to 26\n",
      "The total number of outliers in sib_sp equals to 46\n",
      "The total number of outliers in embarked_C equals to 170\n",
      "The total number of outliers in embarked_Q equals to 77\n",
      "The total number of outliers in p_class equals to 0\n",
      "The total number of outliers in p_class equals to 0\n",
      "The total number of outliers in embarked_S equals to 0\n",
      "The total number of outliers in sex_female equals to 0\n",
      "The total number of outliers in sex_male equals to 0\n"
     ]
    }
   ],
   "source": [
    "# finding outliers\n",
    "p_class_out= train[(train.p_class < lower_range['p_class']) | (train.p_class > upper_range['p_class'])] # no Outliers\n",
    "age_out= train[(train.age < lower_range['age']) | (train.age > upper_range['age'])] # 26 outliers\n",
    "sib_sp_out=train[(train.sib_sp < lower_range['sib_sp']) | (train.sib_sp > upper_range['sib_sp'])] # 46 outliers\n",
    "parch_out = train[(train.parch < lower_range['parch']) | (train.parch > upper_range['parch'])] # 213 outliers\n",
    "fare_out = train[(train.fare < lower_range['fare']) | (train.fare > upper_range['fare'])] # 116 outliers\n",
    "embarked_C_out = train[(train.embarked_C < lower_range['embarked_C']) | (train.embarked_C > upper_range['embarked_C'])] # 170 outliers\n",
    "embarked_Q_out = train[(train.embarked_Q < lower_range['embarked_Q']) | (train.embarked_Q > upper_range['embarked_Q'])] # 77 outliers\n",
    "embarked_S_out = train[(train.embarked_S < lower_range['embarked_S']) | (train.embarked_S > upper_range['embarked_S'])] # no Outliers\n",
    "sex_female_out = train[(train.sex_female < lower_range['sex_female']) | (train.sex_female > upper_range['sex_female'])] # no Outliers\n",
    "sex_male_out = train[(train.sex_male < lower_range['sex_male']) | (train.sex_male > upper_range['sex_male'])] # no Outliers\n",
    "p_class_out= train[(train.p_class < lower_range['p_class']) | (train.p_class > upper_range['p_class'])] # no Outliers\n",
    "\n",
    "# printing the total number of outliers in each column\n",
    "print('The total number of outliers in parch equals to {}'.format(len(parch_out)))\n",
    "print('The total number of outliers in fare equals to {}'.format(len(fare_out)))\n",
    "print('The total number of outliers in age equals to {}'.format(len(age_out)))\n",
    "print('The total number of outliers in sib_sp equals to {}'.format(len(sib_sp_out)))\n",
    "print('The total number of outliers in embarked_C equals to {}'.format(len(embarked_C_out)))\n",
    "print('The total number of outliers in embarked_Q equals to {}'.format(len(embarked_Q_out)))\n",
    "\n",
    "print('The total number of outliers in p_class equals to {}'.format(len(p_class_out)))\n",
    "print('The total number of outliers in p_class equals to {}'.format(len(p_class_out)))\n",
    "print('The total number of outliers in embarked_S equals to {}'.format(len(embarked_S_out)))\n",
    "print('The total number of outliers in sex_female equals to {}'.format(len(sex_female_out)))\n",
    "print('The total number of outliers in sex_male equals to {}'.format(len(sex_male_out)))\n"
   ]
  },
  {
   "cell_type": "markdown",
   "metadata": {},
   "source": [
    " - There are many outliers in most columns, we can not delete all of them as deleting the outliers will result in the removal of big parts of the data\n",
    " - As a future improvement, it is recommended to find a way to deal with the outliers without deleting them"
   ]
  },
  {
   "cell_type": "markdown",
   "metadata": {},
   "source": [
    "## Random Forest without Embarked\n"
   ]
  },
  {
   "cell_type": "code",
   "execution_count": 98,
   "metadata": {},
   "outputs": [
    {
     "data": {
      "text/plain": [
       "0.9820426487093153"
      ]
     },
     "execution_count": 98,
     "metadata": {},
     "output_type": "execute_result"
    }
   ],
   "source": [
    "# here, we removed embarked column since it contained 170 outliers to see whether it will affect model performance\n",
    "# Random forest classifier without cabin\n",
    "random_forest = RandomForestClassifier(n_estimators=100)\n",
    "random_forest.fit(X_train.drop(['embarked_C'], axis=1).select_dtypes(exclude=['object']), y_train)\n",
    "y_pred = random_forest.predict(X_test.drop(['embarked_C'], axis=1).select_dtypes(exclude=['object']))\n",
    "random_forest.score(X_train.drop(['embarked_C'], axis=1).select_dtypes(exclude=['object']), y_train)"
   ]
  },
  {
   "cell_type": "code",
   "execution_count": 99,
   "metadata": {},
   "outputs": [],
   "source": [
    "g_s_or['Survived']= y_pred\n",
    "# Save the prediction into a file that matches the Kaggle submission requirements\n",
    "g_s_or[['PassengerId', 'Survived']].to_csv('../output data/submission_rf_remove_embarked_C.csv',index=False)"
   ]
  },
  {
   "cell_type": "markdown",
   "metadata": {},
   "source": [
    " ### submitting above prediction to Kaggle resulted in score = 0.75358\n"
   ]
  },
  {
   "cell_type": "markdown",
   "metadata": {},
   "source": [
    "## More investigation related to outliers:\n",
    "\n",
    "- We noticed that embarked_C has outliers equals to 170 eventhoght embarked_C is a catogrical column. \n",
    "- embarked_C column has only 0 or 1 values, which does not make sense.\n",
    "- After getting the value count for embarked_C column, there are 721 values of 0 while 170 values of 1.  \n",
    "- As a result, all the data points that contain 1 in embarked_C column are considered as outliers.\n",
    "- We have tried to apply dummy again, but with drop first= True, and check the outliers again to make sure whether updated dummy is going to affect the model performance.\n",
    "\n"
   ]
  },
  {
   "cell_type": "code",
   "execution_count": 100,
   "metadata": {
    "scrolled": true
   },
   "outputs": [
    {
     "name": "stdout",
     "output_type": "stream",
     "text": [
      "0    721\n",
      "1    170\n",
      "Name: embarked_C, dtype: int64\n"
     ]
    }
   ],
   "source": [
    "print (train.embarked_C.value_counts()) # to check the value count of embarked_C before apply dummy again. "
   ]
  },
  {
   "cell_type": "code",
   "execution_count": 101,
   "metadata": {},
   "outputs": [
    {
     "name": "stdout",
     "output_type": "stream",
     "text": [
      "<class 'pandas.core.frame.DataFrame'>\n",
      "RangeIndex: 891 entries, 0 to 890\n",
      "Data columns (total 13 columns):\n",
      " #   Column      Non-Null Count  Dtype  \n",
      "---  ------      --------------  -----  \n",
      " 0   id          891 non-null    int64  \n",
      " 1   survived    891 non-null    int64  \n",
      " 2   p_class     891 non-null    int64  \n",
      " 3   name        891 non-null    object \n",
      " 4   age         891 non-null    float64\n",
      " 5   sib_sp      891 non-null    int64  \n",
      " 6   parch       891 non-null    int64  \n",
      " 7   ticket      891 non-null    object \n",
      " 8   fare        891 non-null    float64\n",
      " 9   cabin       891 non-null    object \n",
      " 10  sex_male    891 non-null    uint8  \n",
      " 11  embarked_Q  891 non-null    uint8  \n",
      " 12  embarked_S  891 non-null    uint8  \n",
      "dtypes: float64(2), int64(5), object(3), uint8(3)\n",
      "memory usage: 72.3+ KB\n"
     ]
    }
   ],
   "source": [
    "train_final.info() # to check the columns after applying dummy with drop first."
   ]
  },
  {
   "cell_type": "code",
   "execution_count": 102,
   "metadata": {},
   "outputs": [
    {
     "data": {
      "text/plain": [
       "({'id': -444.0,\n",
       "  'survived': -1.5,\n",
       "  'p_class': 0.5,\n",
       "  'age': -0.5,\n",
       "  'sib_sp': -1.5,\n",
       "  'parch': 0.0,\n",
       "  'fare': -26.724,\n",
       "  'sex_male': -1.5,\n",
       "  'embarked_Q': 0.0,\n",
       "  'embarked_S': -1.5},\n",
       " {'id': 1336.0,\n",
       "  'survived': 2.5,\n",
       "  'p_class': 4.5,\n",
       "  'age': 59.5,\n",
       "  'sib_sp': 2.5,\n",
       "  'parch': 0.0,\n",
       "  'fare': 65.6344,\n",
       "  'sex_male': 2.5,\n",
       "  'embarked_Q': 0.0,\n",
       "  'embarked_S': 2.5})"
      ]
     },
     "execution_count": 102,
     "metadata": {},
     "output_type": "execute_result"
    }
   ],
   "source": [
    "# Calculate the outliers again after updating dummy with drop_first= True.  \n",
    "\n",
    "# calculate interquartile range:\n",
    "num_colu= train_final.select_dtypes(include=[np.number])\n",
    "lower_range={} # create dict to save lower_range for each column\n",
    "upper_range={} # create dict to save lower_range for each column\n",
    "for i in num_colu: # for each column.\n",
    "    # Calculate Q1(first Quarter- 25) and Q3(third Quartile- 75)\n",
    "    q75, q25 = np.percentile(train_final[i], [75 ,25]) \n",
    "    iqr = q75 - q25 # Calculate IQR = (Q3 - Q1).\n",
    "    lower_range[i] = q25 -(1.5 * iqr) # lower range for a column\n",
    "    upper_range[i] = q75 + (1.5 * iqr) # upper range for a column\n",
    "\n",
    "lower_range,upper_range # can be used to find the outliers as shown in next line.\n",
    "\n"
   ]
  },
  {
   "cell_type": "code",
   "execution_count": 103,
   "metadata": {},
   "outputs": [
    {
     "name": "stdout",
     "output_type": "stream",
     "text": [
      "All the columns after updating dummy with drop_first=True:\n",
      "\n",
      "The total number of outliers in parch equals to 213\n",
      "The total number of outliers in fare equals to 116\n",
      "The total number of outliers in age equals to 26\n",
      "The total number of outliers in sib_sp equals to 46\n",
      "The total number of outliers in embarked_Q equals to 77\n",
      "The total number of outliers in p_class equals to 0\n",
      "The total number of outliers in embarked_S equals to 0\n",
      "The total number of outliers in sex_male equals to 0\n"
     ]
    }
   ],
   "source": [
    "# finding outliers again after updating dummy with drop_first= True. \n",
    "p_class_out= train_final[(train_final.p_class < lower_range['p_class']) | (train_final.p_class > upper_range['p_class'])] # no Outliers\n",
    "age_out= train_final[(train_final.age < lower_range['age']) | (train_final.age > upper_range['age'])] # 26 outliers\n",
    "sib_sp_out=train_final[(train_final.sib_sp < lower_range['sib_sp']) | (train_final.sib_sp > upper_range['sib_sp'])] # 46 outliers\n",
    "\n",
    "\n",
    "parch_out = train_final[(train_final.parch < lower_range['parch']) | (train_final.parch > upper_range['parch'])] # 213 outliers\n",
    "fare_out = train_final[(train_final.fare < lower_range['fare']) | (train_final.fare > upper_range['fare'])] # 116 outliers\n",
    "\n",
    "embarked_Q_out = train_final[(train_final.embarked_Q < lower_range['embarked_Q']) | (train_final.embarked_Q > upper_range['embarked_Q'])] # 77 outliers\n",
    "embarked_S_out = train_final[(train_final.embarked_S < lower_range['embarked_S']) | (train_final.embarked_S > upper_range['embarked_S'])] # no Outliers\n",
    "\n",
    "sex_male_out = train_final[(train_final.sex_male < lower_range['sex_male']) | (train_final.sex_male > upper_range['sex_male'])] # no Outliers\n",
    "p_class_out= train_final[(train_final.p_class < lower_range['p_class']) | (train_final.p_class > upper_range['p_class'])] # no Outliers\n",
    "\n",
    "# # printing the total number of outliers in each column\n",
    "print('All the columns after updating dummy with drop_first=True:\\n')\n",
    "print('The total number of outliers in parch equals to {}'.format(len(parch_out)))\n",
    "print('The total number of outliers in fare equals to {}'.format(len(fare_out)))\n",
    "print('The total number of outliers in age equals to {}'.format(len(age_out)))\n",
    "print('The total number of outliers in sib_sp equals to {}'.format(len(sib_sp_out)))\n",
    "print('The total number of outliers in embarked_Q equals to {}'.format(len(embarked_Q_out)))\n",
    "\n",
    "print('The total number of outliers in p_class equals to {}'.format(len(p_class_out)))\n",
    "print('The total number of outliers in embarked_S equals to {}'.format(len(embarked_S_out)))\n",
    "print('The total number of outliers in sex_male equals to {}'.format(len(sex_male_out)))\n",
    "\n",
    "\n",
    "# The only differences are the following columns which are related to the outliers before updating dummy.\n",
    "# embarked_C and sex_female are included before the update while after the update they are not included\n",
    "\n",
    "# The total number of outliers in embarked_C equals to 170\n",
    "# The total number of outliers in sex_female equals to 0"
   ]
  },
  {
   "cell_type": "markdown",
   "metadata": {},
   "source": [
    "## Random Forest without Embarked_Q\n"
   ]
  },
  {
   "cell_type": "code",
   "execution_count": 104,
   "metadata": {},
   "outputs": [
    {
     "data": {
      "text/plain": [
       "0.9820426487093153"
      ]
     },
     "execution_count": 104,
     "metadata": {},
     "output_type": "execute_result"
    }
   ],
   "source": [
    "# Try RandomForestClassifier with removing embarked_Q which has 77 outliers for the updated train and test to make sure. \n",
    "\n",
    "features_drop_last = ['id','name', 'ticket', 'survived']\n",
    "# a list comprehension to select features of inetrest\n",
    "selected_features_last = [feature for feature in train_final.columns if feature not in features_drop]\n",
    "selected_features_last\n",
    "\n",
    "\n",
    "X_train_final= train_final[selected_features_last]   \n",
    "X_test_final= test_final[selected_features_last]\n",
    "# Random forest classifier without cabin\n",
    "random_forest = RandomForestClassifier(n_estimators=100)\n",
    "\n",
    "random_forest.fit(X_train_final.drop(['embarked_Q'], axis=1).select_dtypes(exclude=['object']), y_train)\n",
    "\n",
    "y_pred = random_forest.predict(X_test_final.drop(['embarked_Q'], axis=1).select_dtypes(exclude=['object']))\n",
    "\n",
    "random_forest.score(X_train_final.drop(['embarked_Q'], axis=1).select_dtypes(exclude=['object']), y_train)"
   ]
  },
  {
   "cell_type": "code",
   "execution_count": 105,
   "metadata": {},
   "outputs": [],
   "source": [
    "g_s_or['Survived']= y_pred\n",
    "# Save the prediction into a file that matches the Kaggle submission requirements\n",
    "g_s_or[['PassengerId', 'Survived']].to_csv('../output data/submission_rf_remove_embarked_Q_dummy_update.csv',index=False)"
   ]
  },
  {
   "cell_type": "markdown",
   "metadata": {},
   "source": [
    "### submitting above prediction to Kaggle resulted in score = 0.75358"
   ]
  },
  {
   "cell_type": "markdown",
   "metadata": {},
   "source": [
    "## Random Forest without parch\n"
   ]
  },
  {
   "cell_type": "code",
   "execution_count": 106,
   "metadata": {},
   "outputs": [
    {
     "data": {
      "text/plain": [
       "0.9809203142536476"
      ]
     },
     "execution_count": 106,
     "metadata": {},
     "output_type": "execute_result"
    }
   ],
   "source": [
    "# Try RandomForestClassifier with removing parch which has 213 outliers for the updated train and test to make sure. \n",
    "\n",
    "features_drop_last = ['id','name', 'ticket', 'survived']\n",
    "# a list comprehension to select features of inetrest\n",
    "selected_features_last = [feature for feature in train_final.columns if feature not in features_drop]\n",
    "selected_features_last\n",
    "\n",
    "\n",
    "X_train_final= train_final[selected_features_last]   \n",
    "X_test_final= test_final[selected_features_last]\n",
    "# Random forest classifier without cabin\n",
    "random_forest = RandomForestClassifier(n_estimators=100)\n",
    "\n",
    "random_forest.fit(X_train_final.drop(['parch'], axis=1).select_dtypes(exclude=['object']), y_train)\n",
    "\n",
    "y_pred = random_forest.predict(X_test_final.drop(['parch'], axis=1).select_dtypes(exclude=['object']))\n",
    "\n",
    "random_forest.score(X_train_final.drop(['parch'], axis=1).select_dtypes(exclude=['object']), y_train)"
   ]
  },
  {
   "cell_type": "code",
   "execution_count": 107,
   "metadata": {},
   "outputs": [],
   "source": [
    "g_s_or['Survived']= y_pred\n",
    "# Save the prediction into a file that matches the Kaggle submission requirements\n",
    "g_s_or[['PassengerId', 'Survived']].to_csv('../output data/submission_rf_remove_parch_dummy_update.csv',index=False)"
   ]
  },
  {
   "cell_type": "markdown",
   "metadata": {},
   "source": [
    " ### submitting above prediction to Kaggle resulted in score = 0.75837"
   ]
  }
 ],
 "metadata": {
  "kernelspec": {
   "display_name": "Python 3",
   "language": "python",
   "name": "python3"
  },
  "language_info": {
   "codemirror_mode": {
    "name": "ipython",
    "version": 3
   },
   "file_extension": ".py",
   "mimetype": "text/x-python",
   "name": "python",
   "nbconvert_exporter": "python",
   "pygments_lexer": "ipython3",
   "version": "3.8.5"
  }
 },
 "nbformat": 4,
 "nbformat_minor": 4
}
